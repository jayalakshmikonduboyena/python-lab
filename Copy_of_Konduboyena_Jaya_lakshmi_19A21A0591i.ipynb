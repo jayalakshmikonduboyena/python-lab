{
  "nbformat": 4,
  "nbformat_minor": 0,
  "metadata": {
    "colab": {
      "name": "Copy of Konduboyena Jaya lakshmi-19A21A0591i",
      "provenance": [],
      "collapsed_sections": [],
      "authorship_tag": "ABX9TyOcRjofJSWn769q/r0mFl7L",
      "include_colab_link": true
    },
    "kernelspec": {
      "name": "python3",
      "display_name": "Python 3"
    },
    "language_info": {
      "name": "python"
    }
  },
  "cells": [
    {
      "cell_type": "markdown",
      "metadata": {
        "id": "view-in-github",
        "colab_type": "text"
      },
      "source": [
        "<a href=\"https://colab.research.google.com/github/jayalakshmikonduboyena/python-lab/blob/main/Copy_of_Konduboyena_Jaya_lakshmi_19A21A0591i.ipynb\" target=\"_parent\"><img src=\"https://colab.research.google.com/assets/colab-badge.svg\" alt=\"Open In Colab\"/></a>"
      ]
    },
    {
      "cell_type": "markdown",
      "metadata": {
        "id": "9gT30tdRbE71"
      },
      "source": [
        "NAME: konduboyena jaya lakshmi\n",
        " \n",
        "Regno:19A21A0591\n",
        " \n",
        "Sec:CSE-B"
      ]
    },
    {
      "cell_type": "markdown",
      "metadata": {
        "id": "Q97nWleDi1el"
      },
      "source": [
        "  EXCERSICE-1 A.WRITE PROGRAM IN INTERACTIVE,INTERPRETER,PYHON SCRIPT MODE.\n",
        " \n",
        " \n",
        " B.Write a program to purposefully raise Indentation Error and Correct it"
      ]
    },
    {
      "cell_type": "markdown",
      "metadata": {
        "id": "9YB9XVKdR7YV"
      },
      "source": [
        ""
      ]
    },
    {
      "cell_type": "markdown",
      "metadata": {
        "id": "uCRSC3YEPr_2"
      },
      "source": [
        "AIM :Running instructions in Interactive interpreter and a Python Script "
      ]
    },
    {
      "cell_type": "markdown",
      "metadata": {
        "id": "_sHh_-eQP3iK"
      },
      "source": [
        "DESCRIPTION:\n",
        "\n",
        "\n",
        "   Python is a high-level, interpreted, interactive and object-oriented scripting language. Python is \n",
        "designed to be highly readable. It uses English keywords frequently where as other languages \n",
        "use punctuation, and it has fewer syntactical constructions than other languages. \n",
        "\n",
        "\n",
        ".Python is Interpreted \n",
        "\n",
        ".Python is Interactive\n",
        "\n",
        ".Python is Object-Oriented \n",
        "\n",
        ".Python is a Beginner's Language "
      ]
    },
    {
      "cell_type": "markdown",
      "metadata": {
        "id": "nr_10iBEQdqU"
      },
      "source": [
        "Python Programming Running Python Scripts\n",
        "\n",
        "Running Python in THREE ways:\n",
        "\n",
        "a) Running Python Interpreter\n",
        "\n",
        "b) Running Python Scripts in IDLE\n",
        "\n",
        "c) Running python scripts in Command Prompt\n",
        "\n",
        "a)  Running Python Interpreter: Python comes with an interactive interpreter. \n",
        "When you type python in your shell or command prompt, the python interpreter becomes active with a >>> prompt and waits for your commands \n",
        "\n",
        "b)  Running Python Scripts in IDLE: . Go to File menu click on New File (CTRL+N) and write the code and save first.py \n",
        "\n",
        "c)  Running python scripts in Command Prompt: ** **bold text · Before going to run we have to check the PATH in environment variables. "
      ]
    },
    {
      "cell_type": "code",
      "metadata": {
        "id": "BVO5e3HObjlG",
        "colab": {
          "base_uri": "https://localhost:8080/"
        },
        "outputId": "00cef50b-951a-4921-972a-bee2c74a428b"
      },
      "source": [
        " a=78\n",
        "b=89\n",
        "a,b=b,a\n",
        "print(a,b)"
      ],
      "execution_count": null,
      "outputs": [
        {
          "output_type": "stream",
          "text": [
            "89 78\n"
          ],
          "name": "stdout"
        }
      ]
    },
    {
      "cell_type": "markdown",
      "metadata": {
        "id": "C411L4YQXpAk"
      },
      "source": [
        ""
      ]
    },
    {
      "cell_type": "markdown",
      "metadata": {
        "id": "DM13LQCYuBZk"
      },
      "source": [
        " AIM:\n",
        "Write a program to purposefully raise Indentation Error and Correct it"
      ]
    },
    {
      "cell_type": "markdown",
      "metadata": {
        "id": "dXPUPsQDuaOW"
      },
      "source": [
        " DESCRIPTION: \n",
        "\n",
        " Intentation :\n",
        "\n",
        ".Python does not support braces to indicate blocks of code for class and function definitions or flow control. \n",
        "\n",
        ".Blocks of code are denoted by line indentation. \n",
        "\n",
        ".All the continuous lines indented with same number of spaces would form a block\n",
        "\n",
        ". Python strictly follow indentation rules to indicate the blocks"
      ]
    },
    {
      "cell_type": "code",
      "metadata": {
        "id": "eHPwKddbcOtO",
        "colab": {
          "base_uri": "https://localhost:8080/"
        },
        "outputId": "04ee35fe-abdc-40e9-dce4-d787ecf0ef53"
      },
      "source": [
        " a=input(\"enter a vlaue:\")\n",
        "b=input(\"enter b value:\")\n",
        "c=a+b;\n",
        "print(\"sum is \",c,sep=\"\\t\")\n",
        "c=int(a)+int(b)\n",
        "print(\"sum of {} and {} is : {}\".format(a,b,c))\n",
        "print(\"sum of %s and %s is:%d\"%(a,b,c))\n",
        "x=10\n",
        "y=123\n",
        "z=x+y;\n",
        "print(\"sum is\",z,sep='\\t' )"
      ],
      "execution_count": null,
      "outputs": [
        {
          "output_type": "stream",
          "text": [
            "enter a vlaue:2\n",
            "enter b value:3\n",
            "sum is \t23\n",
            "sum of 2 and 3 is : 5\n",
            "sum of 2 and 3 is:5\n",
            "sum is\t133\n"
          ],
          "name": "stdout"
        }
      ]
    },
    {
      "cell_type": "markdown",
      "metadata": {
        "id": "R96IdUt1uYG-"
      },
      "source": [
        ""
      ]
    },
    {
      "cell_type": "code",
      "metadata": {
        "id": "kSnvrWNMcVXz",
        "colab": {
          "base_uri": "https://localhost:8080/"
        },
        "outputId": "c0ec5889-051e-4a88-f111-9ded12999230"
      },
      "source": [
        " print(\"welcome to python\")\n",
        "a=20\n",
        "b=30\n",
        "print(\"the value of a:\",a)\n",
        "print(\"the value of b :\",b)\n",
        "if(a>b):\n",
        "       print(\"a is big\");\n",
        "       print(\"ifbblock ends\")\n",
        "else:\n",
        "            print(\"b is big\")\n",
        "            print(\"elseblock ends\")"
      ],
      "execution_count": null,
      "outputs": [
        {
          "output_type": "stream",
          "text": [
            "welcome to python\n",
            "the value of a: 20\n",
            "the value of b : 30\n",
            "b is big\n",
            "elseblock ends\n"
          ],
          "name": "stdout"
        }
      ]
    },
    {
      "cell_type": "markdown",
      "metadata": {
        "id": "KfLDC-LIcuKU"
      },
      "source": [
        " EXERCISE-2\n",
        "A.COMPUTE DISTANCE BETWEEN TWO POINTS\n",
        " \n",
        " \n",
        "B.TAKE TWO NUMBERS ON COMMAND LINE ARGUMENTS AND PRINT THE SUM"
      ]
    },
    {
      "cell_type": "markdown",
      "metadata": {
        "id": "kkSO-JHDu5b9"
      },
      "source": [
        " AIM: \n",
        "TO Write a program to compute distance between two points taking input from the user(PythagoreanTheorem)"
      ]
    },
    {
      "cell_type": "markdown",
      "metadata": {
        "id": "ZdzG5a7CvI_E"
      },
      "source": [
        " DESCRIPTION:\n",
        "\n",
        "\n",
        "Taking Input From the User: A function is defined as a block of organized, reusable code used to perform a single, related action. Python has many built-in functions; you can also create your own. Python has an input function which lets you ask a user for some text input. You call this function to tell the program to stop and wait for the user to key in the data. In Python 2, you have a built-in function raw_input(), whereas in Python 3, you have input(). The program will resume once the user presses the ENTER or RETURN key. \n",
        "Input Function input(prompt=None,/). Read a string from standard input. The trailing newline is stripped. The prompt string, if given, is printed to standard output without a trailing newline before reading input. If the user hits EOF (*nix: Ctrl-D, Windows: Ctrl Z+Return), raise EOFError."
      ]
    },
    {
      "cell_type": "code",
      "metadata": {
        "id": "DHj6_S0qcyVL",
        "colab": {
          "base_uri": "https://localhost:8080/"
        },
        "outputId": "82d5554d-e421-4598-ee8c-ba2eb428d121"
      },
      "source": [
        " x1=10\n",
        "x2=80\n",
        "y1=12\n",
        "y2=20\n",
        "z=(pow((x2-x1),2)+pow((y2-y1),2))**0.5\n",
        "print(z)"
      ],
      "execution_count": null,
      "outputs": [
        {
          "output_type": "stream",
          "text": [
            "70.45565981523414\n"
          ],
          "name": "stdout"
        }
      ]
    },
    {
      "cell_type": "code",
      "metadata": {
        "id": "MU10DWHuc2M_",
        "colab": {
          "base_uri": "https://localhost:8080/"
        },
        "outputId": "1356b23e-cb71-4c51-a4dc-a351822bb626"
      },
      "source": [
        " import math\n",
        "x1=int(input(\"enter  x1 value:\"))\n",
        "x2=int(input(\"enter  x2 value:\"))\n",
        "y1=int(input(\"enter  y1 value:\"))\n",
        "y2=int(input(\"enter  y2 value:\"))\n",
        "z=math.sqrt((x2-x1)**2+(y2-y1)**2)\n",
        "print(\"the distance between two points is :\",z)\n",
        "print(\"the distance between two points is :\",z,sep='\\t')\n",
        "print(\"the distance between ({}, {})and ({},{}) is  :{}\".format(x1,y1,x2,y2,z))\n",
        " \n",
        "print(\"the distance between (%d, %d)and (%d,%d) is  :%f\"%(x1,y1,x2,y2,z))"
      ],
      "execution_count": null,
      "outputs": [
        {
          "output_type": "stream",
          "text": [
            "enter  x1 value:2\n",
            "enter  x2 value:3\n",
            "enter  y1 value:4\n",
            "enter  y2 value:5\n",
            "the distance between two points is : 1.4142135623730951\n",
            "the distance between two points is :\t1.4142135623730951\n",
            "the distance between (2, 4)and (3,5) is  :1.4142135623730951\n",
            "the distance between (2, 4)and (3,5) is  :1.414214\n"
          ],
          "name": "stdout"
        }
      ]
    },
    {
      "cell_type": "markdown",
      "metadata": {
        "id": "Rs66ncMLvZNt"
      },
      "source": [
        "AIM:\n",
        "To Write a program add.py that takes 2 numbers as command line arguments and prints its sum"
      ]
    },
    {
      "cell_type": "markdown",
      "metadata": {
        "id": "KilYHoyXviSy"
      },
      "source": [
        "DESCRIPTION:\n",
        "\n",
        "The arguments that are given after the name of the program in the command line shell of the operating system are known as Command Line Arguments. Python provides various ways of dealing with these types of arguments. The three most common are: Using  sys.argv Using getopt module Using argparse module Using sys.argv The sys module provides functions and variables used to manipulate different parts of the Python runtime environment. This module provides access to some variables used or maintained by the interpreter and to functions that interact strongly with the interpreter. One such variable is sys.argv which is a simple list structure. It’s main purpose are: It is a list of command line arguments. len(sys.argv) provides the number of command line arguments.   import sys"
      ]
    },
    {
      "cell_type": "code",
      "metadata": {
        "id": "wjGjBiB9c9RH"
      },
      "source": [
        " import sys\n",
        "a=sys.argv[1]\n",
        "b=sys.argv[2]\n",
        "sum=int(a)+int(b)\n",
        "print(\"summ of two number is:\",sum)"
      ],
      "execution_count": null,
      "outputs": []
    },
    {
      "cell_type": "markdown",
      "metadata": {
        "id": "W2CwYDNIdC36"
      },
      "source": [
        " EXCERSCISE-3 A) Write a Program for checking whether the given number is an even number or not.\n",
        " \n",
        " \n",
        "b) Using a for loop, write a program that prints out the decimal equivalents of 1/2, 1/3, 1/4, . . .1/10\n",
        " \n",
        " \n",
        "c) Write a program using a for loop that loops over a sequence. What is sequence?\n",
        " \n",
        "d) Write a program using a while loop that asks the user for a number, and prints a countdownfrom that number to zero"
      ]
    },
    {
      "cell_type": "markdown",
      "metadata": {
        "id": "vjk-Qo_83RVM"
      },
      "source": [
        "  AIM: \n",
        " \n",
        "a) Write a Program for checking whether the given number is an even number or not."
      ]
    },
    {
      "cell_type": "markdown",
      "metadata": {
        "id": "hLTNgGDI4h_m"
      },
      "source": [
        " DESCRIPTION: \n",
        " \n",
        " if..else Statement When there is an alternate operation in control flow, use an else statement alongside with if statement. The general format is if condition:"
      ]
    },
    {
      "cell_type": "markdown",
      "metadata": {
        "id": "PsxL_plUwfl4"
      },
      "source": [
        ""
      ]
    },
    {
      "cell_type": "code",
      "metadata": {
        "id": "k0qpOmeJdI7-",
        "colab": {
          "base_uri": "https://localhost:8080/"
        },
        "outputId": "9c1fc8d6-f2a7-4658-a42e-ab6aa43949c9"
      },
      "source": [
        " n=int(input(\"enter a number:\"))\n",
        "if (n%2)==0:\n",
        "        print(\"given number is even\")\n",
        "else:\n",
        "      print(\"given number is odd\")"
      ],
      "execution_count": null,
      "outputs": [
        {
          "output_type": "stream",
          "text": [
            "enter a number:2\n",
            "given number is even\n"
          ],
          "name": "stdout"
        }
      ]
    },
    {
      "cell_type": "markdown",
      "metadata": {
        "id": "XBVoxE6r5Kgp"
      },
      "source": [
        "AIM:\n",
        " \n",
        "Using a for loop, write a program that prints out the decimal equivalents of 1/2, 1/3, 1/4, . . 10"
      ]
    },
    {
      "cell_type": "markdown",
      "metadata": {
        "id": "pk8Ja4195UVy"
      },
      "source": [
        " DESCRIPTION \n",
        "   For Loop: For loops can iterate over a sequence of numbers using the \"range\" and \"xrange\" functions. The difference between range and xrange is that the range function returns a new list with numbers of that specified range, whereas xrange returns an iterator, which is more eficient. The general format is for x in range(start,stop,step): statements"
      ]
    },
    {
      "cell_type": "code",
      "metadata": {
        "id": "Zq4S38mFdMkE",
        "colab": {
          "base_uri": "https://localhost:8080/"
        },
        "outputId": "c5b259f3-a648-4b8d-cd71-e0f2e8a2e38d"
      },
      "source": [
        " n=int(input(\"enter a number:\"))\n",
        "for i in range(2,n):\n",
        "    de=1/i;\n",
        "    print(\"1/\",i,\"=\",de)"
      ],
      "execution_count": null,
      "outputs": [
        {
          "output_type": "stream",
          "text": [
            "enter a number:3\n",
            "1/ 2 = 0.5\n"
          ],
          "name": "stdout"
        }
      ]
    },
    {
      "cell_type": "markdown",
      "metadata": {
        "id": "MScRQ9bN5jOc"
      },
      "source": [
        " AIM:\n",
        " \n",
        " \n",
        " Write a program using a for loop that loops over a sequence. What is sequence?"
      ]
    },
    {
      "cell_type": "markdown",
      "metadata": {
        "id": "4i6HQuTh5pWt"
      },
      "source": [
        " DESCRIPTION:\n",
        " For Loop: For loops can iterate over a sequence of numbers using the \"range\" and \"xrange\" functions. The difference between range and xrange is that the range function returns a new list with numbers of that specified range, whereas xrange returns an iterator, which is more eficient. The general format is for x in range(start,stop,step): statements"
      ]
    },
    {
      "cell_type": "code",
      "metadata": {
        "id": "81sYwCyKdQYr",
        "colab": {
          "base_uri": "https://localhost:8080/"
        },
        "outputId": "b528d5f6-19b7-4c06-a1e5-43445d8fad6b"
      },
      "source": [
        " #program using a for a loop that loops over a sequence\n",
        "print(\"loop sequence\")\n",
        "num=[45,25,2,28,3,25]\n",
        "for i in num:\n",
        "    print(i)\n",
        " \n",
        "#string sequence\n",
        "print(\"string sequence\")\n",
        "days=[\"sun\",\"mon\",\"tue\",\"wed\",\"thur\",\"fri\",\"st\"]\n",
        "for d in days:\n",
        "    print(d)\n",
        "    \n",
        "#bothh sequence\n",
        "print(\"sequence\")\n",
        "arr=[123,\"abc\",5.6,'h',-33,\"xy\",True]\n",
        "for x in arr:\n",
        "      print(x)"
      ],
      "execution_count": null,
      "outputs": [
        {
          "output_type": "stream",
          "text": [
            "loop sequence\n",
            "45\n",
            "25\n",
            "2\n",
            "28\n",
            "3\n",
            "25\n",
            "string sequence\n",
            "sun\n",
            "mon\n",
            "tue\n",
            "wed\n",
            "thur\n",
            "fri\n",
            "st\n",
            "sequence\n",
            "123\n",
            "abc\n",
            "5.6\n",
            "h\n",
            "-33\n",
            "xy\n",
            "True\n"
          ],
          "name": "stdout"
        }
      ]
    },
    {
      "cell_type": "markdown",
      "metadata": {
        "id": "QXQii8sG1Pec"
      },
      "source": [
        "AIM: \n",
        "\n",
        "\n",
        " TO Write a program using a while loop that asks the user for a number, and prints a \n",
        "countdownfrom that number to zero."
      ]
    },
    {
      "cell_type": "markdown",
      "metadata": {
        "id": "yJCY6ZSw1eR_"
      },
      "source": [
        "DESCRIPTION: \n",
        "\n",
        "\n",
        "\n",
        "While Loop is used to execute a block of statements repeatedly until a given condition is \n",
        "satisfied. And when the condition becomes false, the line immediately after the loop in the \n",
        "program is executed. While loop falls under the category of indefinite iteration \n",
        "The syntax for a while loop is: \n",
        "while [ condition] "
      ]
    },
    {
      "cell_type": "code",
      "metadata": {
        "id": "3qaN0e_fdXkb",
        "colab": {
          "base_uri": "https://localhost:8080/"
        },
        "outputId": "3b0e4744-22f1-4b80-9ee0-5db10fea24af"
      },
      "source": [
        " #countdown seq\n",
        "n=int(input(\"enter the numbr:\"))\n",
        "while n>0:\n",
        "      print(n)\n",
        "      n=n-1"
      ],
      "execution_count": null,
      "outputs": [
        {
          "output_type": "stream",
          "text": [
            "enter the numbr:3\n",
            "3\n",
            "2\n",
            "1\n"
          ],
          "name": "stdout"
        }
      ]
    },
    {
      "cell_type": "markdown",
      "metadata": {
        "id": "YS9gp6o2deJT"
      },
      "source": [
        " EXCERCISE-4 a) Find the sum of all the primes below two million. Each new term in the Fibonacci sequence is generated by adding the previous two terms. Bystarting with 1 and 2, the first 10 terms will be: 1, 2, 3, 5, 8, 13, 21, 34, 55, 89, ...\n",
        " \n",
        " \n",
        "b) By considering the terms in the Fibonacci sequence whose values do not exceed four million,find the sum of the even-valued terms."
      ]
    },
    {
      "cell_type": "markdown",
      "metadata": {
        "id": "qpt8q62J1mqo"
      },
      "source": [
        "AIM: \n",
        "\n",
        "\n",
        " a)  Find the sum of all the primes below two million. Each new term in the Fibonacci sequence is \n",
        "generated by adding the previous two terms. Bystarting with 1 and 2, the first 10 terms will be: 1, \n",
        "2, 3, 5, 8, 13, 21, 34, 55, 89, ..."
      ]
    },
    {
      "cell_type": "markdown",
      "metadata": {
        "id": "fa3xJdG41z2q"
      },
      "source": [
        "DESCRIPTION: \n",
        "\n",
        "\n",
        "\n",
        "A Fibonacci sequence is the integer sequence of 0, 1, 1, 2, 3, 5, 8.... \n",
        "\n",
        "The first two terms are 0 and 1. All other terms are obtained by adding the preceding two terms. \n",
        "This means to say the nth term is the sum of (n-1)th and (n-2)th term \n",
        "Here, we store the number of terms in nterms. We initialize the first term to 0 and the second \n",
        "term to 1. \n",
        "\n",
        "\n",
        "If the number of terms is more than 2, we use a while loop to find the next term in the sequence \n",
        "by adding the preceding two terms. We then interchange the variables (update it) and continue \n",
        "on with the process. "
      ]
    },
    {
      "cell_type": "markdown",
      "metadata": {
        "id": "aKAM409050lC"
      },
      "source": [
        ""
      ]
    },
    {
      "cell_type": "code",
      "metadata": {
        "id": "TCV3ZVVAdjif",
        "colab": {
          "base_uri": "https://localhost:8080/"
        },
        "outputId": "88e2b847-bd3c-4705-8f45-6a817341609e"
      },
      "source": [
        " n=int(input(\"enter   a anum:\"))\n",
        "a=0\n",
        "b=1\n",
        "c=a+b\n",
        "st=\"\"\n",
        "sum=0\n",
        "con=0\n",
        "while con<=n:\n",
        "    st+=\"\"+str(c)\n",
        "    sum+=c        \n",
        "    a=b\n",
        "    b=c \n",
        "    c=a+b\n",
        "    con+=1\n",
        "print(st)\n",
        "print(\"sum of fibonacii series:\",sum)"
      ],
      "execution_count": null,
      "outputs": [
        {
          "output_type": "stream",
          "text": [
            "enter   a anum:3\n",
            "1235\n",
            "sum of fibonacii series: 11\n"
          ],
          "name": "stdout"
        }
      ]
    },
    {
      "cell_type": "markdown",
      "metadata": {
        "id": "cmBRzrhh2Tvb"
      },
      "source": [
        "AIM: \n",
        "\n",
        "\n",
        "\n",
        " b)  By considering the terms in the Fibonacci sequence whose values do not exceed four \n",
        "million,find the sum of the even-valued terms. "
      ]
    },
    {
      "cell_type": "markdown",
      "metadata": {
        "id": "bTS320mn2W1x"
      },
      "source": [
        "DESCRIPTION:\n",
        "\n",
        "\n",
        "A Fibonacci sequence is the integer sequence of 0, 1, 1, 2, 3, 5, 8.... \n",
        "The first two terms are 0 and 1. All other terms are obtained by adding the preceding two terms. \n",
        "This means to say the nth term is the sum of (n-1)th and (n-2)th term \n",
        "Here, we store the number of terms in nterms. We initialize the first term to 0 and the second \n",
        "term to 1. \n",
        "\n",
        "\n",
        "If the number of terms is more than 2, we use a while loop to find the next term in the sequence \n",
        "by adding the preceding two terms. We then interchange the variables (update it) and continue \n",
        "on with the process. "
      ]
    },
    {
      "cell_type": "code",
      "metadata": {
        "id": "n0rqautmdnBV",
        "colab": {
          "base_uri": "https://localhost:8080/",
          "height": 168
        },
        "outputId": "0323e87a-41e0-4caa-af82-a1675e725258"
      },
      "source": [
        " n=int(input(\"enter a number:\"))\n",
        "c=0\n",
        " \n",
        " \n",
        "st=\"\"\n",
        "sum=0\n",
        " \n",
        "for i in range(2,n):\n",
        " state=True\n",
        "for j in range(2,i):\n",
        " if(i%j==0):\n",
        "        state=False\n",
        "        break;\n",
        "if state==True:\n",
        "            st+=\"\"+str(i)\n",
        "            c+=1\n",
        "            sum+=i\n",
        " \n",
        "print(\"prime numbers\")\n",
        "print(st)\n",
        " \n",
        "print(\"total count of the prime numbers:\",c)\n",
        "print(\"sum of all prime nums:\",sum)"
      ],
      "execution_count": null,
      "outputs": [
        {
          "output_type": "error",
          "ename": "IndentationError",
          "evalue": "ignored",
          "traceback": [
            "\u001b[0;36m  File \u001b[0;32m\"<ipython-input-27-79e197101de3>\"\u001b[0;36m, line \u001b[0;32m9\u001b[0m\n\u001b[0;31m    state=True\u001b[0m\n\u001b[0m        ^\u001b[0m\n\u001b[0;31mIndentationError\u001b[0m\u001b[0;31m:\u001b[0m expected an indented block\n"
          ]
        }
      ]
    },
    {
      "cell_type": "markdown",
      "metadata": {
        "id": "FXXl98lldtGu"
      },
      "source": [
        " EXCERCISE-5DS\n",
        "a) Write a program to count the numbers of characters in the string and store them in adictionary data structure\n",
        " \n",
        "b) Write a program to use split and join methods in the string and trace a birthday with adictionary data structure."
      ]
    },
    {
      "cell_type": "markdown",
      "metadata": {
        "id": "ixM-2lhs2oDC"
      },
      "source": [
        "AIM: \n",
        "\n",
        "\n",
        "\n",
        " a) Write a program to count the numbers of characters in the string and store them in \n",
        "adictionary data structure "
      ]
    },
    {
      "cell_type": "markdown",
      "metadata": {
        "id": "GGLu959M2rhB"
      },
      "source": [
        "DESCRIPTION: \n",
        "\n",
        "\n",
        "\n",
        "Given a string, the task is to find the frequencies of all the characters in that string and return a \n",
        "dictionary with key as the character and its value as its frequency in the given string.\n",
        "\n",
        "\n",
        "Method #1 :\n",
        "     Naive method \n",
        "Simply iterate through the string and form a key in dictionary of newly occurred element or if \n",
        "element is already occurred, increase its value by 1. \n",
        "\n",
        "\n",
        "Method #2 :\n",
        "     Using collections.Counter() \n",
        "The most suggested method that could be used to find all occurrences is this method, this \n",
        "actually gets all element frequency and could also be used to print single element frequency if \n",
        "required. "
      ]
    },
    {
      "cell_type": "code",
      "metadata": {
        "id": "qWHebUNFdyA8",
        "colab": {
          "base_uri": "https://localhost:8080/"
        },
        "outputId": "293bb77e-3459-4a09-923f-aba479b53109"
      },
      "source": [
        " name=input(\"enter anmae:\")\n",
        "dic={}\n",
        "for ch in name:\n",
        "    keys=dic.keys()\n",
        " \n",
        "    if(ch in keys):\n",
        "        dic[ch]=dic[ch]+1\n",
        "    else:\n",
        "        dic[ch]=1\n",
        " \n",
        "print(\"dictinarry is:\",dic)"
      ],
      "execution_count": null,
      "outputs": [
        {
          "output_type": "stream",
          "text": [
            "enter anmae:3\n",
            "dictinarry is: {'3': 1}\n"
          ],
          "name": "stdout"
        }
      ]
    },
    {
      "cell_type": "markdown",
      "metadata": {
        "id": "5Hu3It6P28Ks"
      },
      "source": [
        "AIM: \n",
        "\n",
        "\n",
        "\n",
        " b) Write a program to use split and join methods in the string and trace a birthday with \n",
        "adictionary data structure "
      ]
    },
    {
      "cell_type": "markdown",
      "metadata": {
        "id": "GCGjeUXL3HrK"
      },
      "source": [
        "DESCRIPTION: \n",
        "\n",
        "\n",
        "\n",
        "Python program to Split a string based on a delimiter and join the string using another delimiter. \n",
        "\n",
        "\n",
        "Split a string can be quite useful sometimes, especially when you need only certain parts of \n",
        "strings. A simple yet effective example is splitting the First-name and Last-name of a person.\n",
        "\n",
        "\n",
        "Another application is CSV(Comma Separated Files). We use split to get data from CSV and join \n",
        "to write data to CSV. \n",
        "In Python, we can use the function split() to split a string and \n",
        "join() to join a string. "
      ]
    },
    {
      "cell_type": "code",
      "metadata": {
        "id": "iGyrYG-UeOWx",
        "colab": {
          "base_uri": "https://localhost:8080/"
        },
        "outputId": "8ba1d25d-55cf-478c-ef9f-2dce5d52f70b"
      },
      "source": [
        " dob={\"jaya\":\"09-01-2002\",\"slsd\":\"14-04-2002\"}\n",
        "name=input(\"enter which person dob u want:\")\n",
        "l=name.split()\n",
        "birth=\"\"\n",
        "for i in l:\n",
        "    if i in dob.keys():\n",
        "        pers=i\n",
        " \n",
        "print(\"\".join([pers,\"birthdayis:\",dob[pers]]))"
      ],
      "execution_count": null,
      "outputs": [
        {
          "output_type": "stream",
          "text": [
            "enter which person dob u want:jaya\n",
            "jayabirthdayis:09-01-2002\n"
          ],
          "name": "stdout"
        }
      ]
    },
    {
      "cell_type": "markdown",
      "metadata": {
        "id": "lBlCyYtTeU01"
      },
      "source": [
        " EXERCISE-6 DS - Continued\n",
        " \n",
        "a) Write a program combinelists that combines these lists into a dictionary.\n",
        " \n",
        "b) Write a program to count frequency of characters in a given file. Can you use characterfrequency to\n",
        " \n",
        "tell whether the given file is a Python program file, C program file or a text file?"
      ]
    },
    {
      "cell_type": "markdown",
      "metadata": {
        "id": "AfstsD2z3VQq"
      },
      "source": [
        "AIM: \n",
        "\n",
        "\n",
        "a) Write a program combinelists that combines these lists into a dictionary."
      ]
    },
    {
      "cell_type": "markdown",
      "metadata": {
        "id": "L5UR5ew_3cIa"
      },
      "source": [
        "DESCRIPTION:\n",
        "\n",
        "   For this, simply declare a dictionary, and then run nested loop for both the lists and assign key \n",
        "and value pairs to from list values to dictionary. \n",
        "Most pythonic and generic method to perform this very task is by using zip(). \n",
        "\n",
        "This function pairs \n",
        "the list element with other list element at corresponding index in form of key-value pairs. "
      ]
    },
    {
      "cell_type": "code",
      "metadata": {
        "id": "uU82I6DbeeDQ",
        "colab": {
          "base_uri": "https://localhost:8080/"
        },
        "outputId": "ef6dc015-b569-48e5-90ff-a9b64d04dad4"
      },
      "source": [
        " sub=[\"daa\",\"os\",\"dbms\",\"p&s\",\"ppl\",\"se\"]\n",
        "marks=[85,96,75,65,83,56]\n",
        "print(sub)\n",
        "print(marks)\n",
        "dic=dict(zip(sub,marks))\n",
        "print(dic)"
      ],
      "execution_count": null,
      "outputs": [
        {
          "output_type": "stream",
          "text": [
            "['daa', 'os', 'dbms', 'p&s', 'ppl', 'se']\n",
            "[85, 96, 75, 65, 83, 56]\n",
            "{'daa': 85, 'os': 96, 'dbms': 75, 'p&s': 65, 'ppl': 83, 'se': 56}\n"
          ],
          "name": "stdout"
        }
      ]
    },
    {
      "cell_type": "markdown",
      "metadata": {
        "id": "ajLezJH43zfC"
      },
      "source": [
        "\n",
        "AIM: \n",
        "\n",
        "\n",
        " b) Write a program to count frequency of characters in a given file. Can you use \n",
        "characterfrequency to tell whether the given file is a Python program file, C program file or a text \n",
        "file? "
      ]
    },
    {
      "cell_type": "markdown",
      "metadata": {
        "id": "bOgyFli539iT"
      },
      "source": [
        "DESCRIPTION: \n",
        "\n",
        "\n",
        "approaches to count the number of times a letter appears in a text file in Python. \n",
        "\n",
        "\n",
        "Method 1: Using the in-built count() method. \n",
        "Approach: \n",
        "\n",
        "1. Read the file. \n",
        "\n",
        "2. Store the content of the file in a variable. \n",
        "\n",
        "3. Use the count() method with the argument as a letter whose frequency is required.\n",
        " \n",
        "4. Display the count of the letter"
      ]
    },
    {
      "cell_type": "code",
      "metadata": {
        "id": "Z8Tnj2V2eyVr",
        "colab": {
          "base_uri": "https://localhost:8080/",
          "height": 1000
        },
        "outputId": "fbfb4757-3ec5-4095-d9e7-53484ec5086b"
      },
      "source": [
        " filetypes=['.py','.c','.txt']\n",
        "fn=input(\"enter a fikle name:\")\n",
        "f=open(fn,\"r\")\n",
        "count=dict()\n",
        "for  ft in filetypes:\n",
        "     if(ft in  fn):\n",
        "           if(ft==\".py\"):\n",
        "             print(\"python file\")\n",
        "           elif(ft==\".c\"):\n",
        "             print(\"cfile\")\n",
        "           elif(ft==\".txt\"):\n",
        "             print(\"text file\")\n",
        " \n",
        " \n",
        "for line in f:\n",
        "     for ch in line:\n",
        "          if ch in count:\n",
        "               count[ch]=count[ch]+1\n",
        " \n",
        "          else:\n",
        "              count[ch]=1\n",
        " \n",
        " \n",
        "print(count)\n",
        "f.close()"
      ],
      "execution_count": null,
      "outputs": [
        {
          "output_type": "error",
          "ename": "KeyboardInterrupt",
          "evalue": "ignored",
          "traceback": [
            "\u001b[0;31m---------------------------------------------------------------------------\u001b[0m",
            "\u001b[0;31mKeyboardInterrupt\u001b[0m                         Traceback (most recent call last)",
            "\u001b[0;32m/usr/local/lib/python3.7/dist-packages/ipykernel/kernelbase.py\u001b[0m in \u001b[0;36m_input_request\u001b[0;34m(self, prompt, ident, parent, password)\u001b[0m\n\u001b[1;32m    728\u001b[0m             \u001b[0;32mtry\u001b[0m\u001b[0;34m:\u001b[0m\u001b[0;34m\u001b[0m\u001b[0;34m\u001b[0m\u001b[0m\n\u001b[0;32m--> 729\u001b[0;31m                 \u001b[0mident\u001b[0m\u001b[0;34m,\u001b[0m \u001b[0mreply\u001b[0m \u001b[0;34m=\u001b[0m \u001b[0mself\u001b[0m\u001b[0;34m.\u001b[0m\u001b[0msession\u001b[0m\u001b[0;34m.\u001b[0m\u001b[0mrecv\u001b[0m\u001b[0;34m(\u001b[0m\u001b[0mself\u001b[0m\u001b[0;34m.\u001b[0m\u001b[0mstdin_socket\u001b[0m\u001b[0;34m,\u001b[0m \u001b[0;36m0\u001b[0m\u001b[0;34m)\u001b[0m\u001b[0;34m\u001b[0m\u001b[0;34m\u001b[0m\u001b[0m\n\u001b[0m\u001b[1;32m    730\u001b[0m             \u001b[0;32mexcept\u001b[0m \u001b[0mException\u001b[0m\u001b[0;34m:\u001b[0m\u001b[0;34m\u001b[0m\u001b[0;34m\u001b[0m\u001b[0m\n",
            "\u001b[0;32m/usr/local/lib/python3.7/dist-packages/jupyter_client/session.py\u001b[0m in \u001b[0;36mrecv\u001b[0;34m(self, socket, mode, content, copy)\u001b[0m\n\u001b[1;32m    802\u001b[0m         \u001b[0;32mtry\u001b[0m\u001b[0;34m:\u001b[0m\u001b[0;34m\u001b[0m\u001b[0;34m\u001b[0m\u001b[0m\n\u001b[0;32m--> 803\u001b[0;31m             \u001b[0mmsg_list\u001b[0m \u001b[0;34m=\u001b[0m \u001b[0msocket\u001b[0m\u001b[0;34m.\u001b[0m\u001b[0mrecv_multipart\u001b[0m\u001b[0;34m(\u001b[0m\u001b[0mmode\u001b[0m\u001b[0;34m,\u001b[0m \u001b[0mcopy\u001b[0m\u001b[0;34m=\u001b[0m\u001b[0mcopy\u001b[0m\u001b[0;34m)\u001b[0m\u001b[0;34m\u001b[0m\u001b[0;34m\u001b[0m\u001b[0m\n\u001b[0m\u001b[1;32m    804\u001b[0m         \u001b[0;32mexcept\u001b[0m \u001b[0mzmq\u001b[0m\u001b[0;34m.\u001b[0m\u001b[0mZMQError\u001b[0m \u001b[0;32mas\u001b[0m \u001b[0me\u001b[0m\u001b[0;34m:\u001b[0m\u001b[0;34m\u001b[0m\u001b[0;34m\u001b[0m\u001b[0m\n",
            "\u001b[0;32m/usr/local/lib/python3.7/dist-packages/zmq/sugar/socket.py\u001b[0m in \u001b[0;36mrecv_multipart\u001b[0;34m(self, flags, copy, track)\u001b[0m\n\u001b[1;32m    582\u001b[0m         \"\"\"\n\u001b[0;32m--> 583\u001b[0;31m         \u001b[0mparts\u001b[0m \u001b[0;34m=\u001b[0m \u001b[0;34m[\u001b[0m\u001b[0mself\u001b[0m\u001b[0;34m.\u001b[0m\u001b[0mrecv\u001b[0m\u001b[0;34m(\u001b[0m\u001b[0mflags\u001b[0m\u001b[0;34m,\u001b[0m \u001b[0mcopy\u001b[0m\u001b[0;34m=\u001b[0m\u001b[0mcopy\u001b[0m\u001b[0;34m,\u001b[0m \u001b[0mtrack\u001b[0m\u001b[0;34m=\u001b[0m\u001b[0mtrack\u001b[0m\u001b[0;34m)\u001b[0m\u001b[0;34m]\u001b[0m\u001b[0;34m\u001b[0m\u001b[0;34m\u001b[0m\u001b[0m\n\u001b[0m\u001b[1;32m    584\u001b[0m         \u001b[0;31m# have first part already, only loop while more to receive\u001b[0m\u001b[0;34m\u001b[0m\u001b[0;34m\u001b[0m\u001b[0;34m\u001b[0m\u001b[0m\n",
            "\u001b[0;32mzmq/backend/cython/socket.pyx\u001b[0m in \u001b[0;36mzmq.backend.cython.socket.Socket.recv\u001b[0;34m()\u001b[0m\n",
            "\u001b[0;32mzmq/backend/cython/socket.pyx\u001b[0m in \u001b[0;36mzmq.backend.cython.socket.Socket.recv\u001b[0;34m()\u001b[0m\n",
            "\u001b[0;32mzmq/backend/cython/socket.pyx\u001b[0m in \u001b[0;36mzmq.backend.cython.socket._recv_copy\u001b[0;34m()\u001b[0m\n",
            "\u001b[0;32m/usr/local/lib/python3.7/dist-packages/zmq/backend/cython/checkrc.pxd\u001b[0m in \u001b[0;36mzmq.backend.cython.checkrc._check_rc\u001b[0;34m()\u001b[0m\n",
            "\u001b[0;31mKeyboardInterrupt\u001b[0m: ",
            "\nDuring handling of the above exception, another exception occurred:\n",
            "\u001b[0;31mKeyboardInterrupt\u001b[0m                         Traceback (most recent call last)",
            "\u001b[0;32m<ipython-input-32-31acbb82d446>\u001b[0m in \u001b[0;36m<module>\u001b[0;34m()\u001b[0m\n\u001b[1;32m      1\u001b[0m \u001b[0mfiletypes\u001b[0m\u001b[0;34m=\u001b[0m\u001b[0;34m[\u001b[0m\u001b[0;34m'.py'\u001b[0m\u001b[0;34m,\u001b[0m\u001b[0;34m'.c'\u001b[0m\u001b[0;34m,\u001b[0m\u001b[0;34m'.txt'\u001b[0m\u001b[0;34m]\u001b[0m\u001b[0;34m\u001b[0m\u001b[0;34m\u001b[0m\u001b[0m\n\u001b[0;32m----> 2\u001b[0;31m \u001b[0mfn\u001b[0m\u001b[0;34m=\u001b[0m\u001b[0minput\u001b[0m\u001b[0;34m(\u001b[0m\u001b[0;34m\"enter a fikle name:\"\u001b[0m\u001b[0;34m)\u001b[0m\u001b[0;34m\u001b[0m\u001b[0;34m\u001b[0m\u001b[0m\n\u001b[0m\u001b[1;32m      3\u001b[0m \u001b[0mf\u001b[0m\u001b[0;34m=\u001b[0m\u001b[0mopen\u001b[0m\u001b[0;34m(\u001b[0m\u001b[0mfn\u001b[0m\u001b[0;34m,\u001b[0m\u001b[0;34m\"r\"\u001b[0m\u001b[0;34m)\u001b[0m\u001b[0;34m\u001b[0m\u001b[0;34m\u001b[0m\u001b[0m\n\u001b[1;32m      4\u001b[0m \u001b[0mcount\u001b[0m\u001b[0;34m=\u001b[0m\u001b[0mdict\u001b[0m\u001b[0;34m(\u001b[0m\u001b[0;34m)\u001b[0m\u001b[0;34m\u001b[0m\u001b[0;34m\u001b[0m\u001b[0m\n\u001b[1;32m      5\u001b[0m \u001b[0;32mfor\u001b[0m  \u001b[0mft\u001b[0m \u001b[0;32min\u001b[0m \u001b[0mfiletypes\u001b[0m\u001b[0;34m:\u001b[0m\u001b[0;34m\u001b[0m\u001b[0;34m\u001b[0m\u001b[0m\n",
            "\u001b[0;32m/usr/local/lib/python3.7/dist-packages/ipykernel/kernelbase.py\u001b[0m in \u001b[0;36mraw_input\u001b[0;34m(self, prompt)\u001b[0m\n\u001b[1;32m    702\u001b[0m             \u001b[0mself\u001b[0m\u001b[0;34m.\u001b[0m\u001b[0m_parent_ident\u001b[0m\u001b[0;34m,\u001b[0m\u001b[0;34m\u001b[0m\u001b[0;34m\u001b[0m\u001b[0m\n\u001b[1;32m    703\u001b[0m             \u001b[0mself\u001b[0m\u001b[0;34m.\u001b[0m\u001b[0m_parent_header\u001b[0m\u001b[0;34m,\u001b[0m\u001b[0;34m\u001b[0m\u001b[0;34m\u001b[0m\u001b[0m\n\u001b[0;32m--> 704\u001b[0;31m             \u001b[0mpassword\u001b[0m\u001b[0;34m=\u001b[0m\u001b[0;32mFalse\u001b[0m\u001b[0;34m,\u001b[0m\u001b[0;34m\u001b[0m\u001b[0;34m\u001b[0m\u001b[0m\n\u001b[0m\u001b[1;32m    705\u001b[0m         )\n\u001b[1;32m    706\u001b[0m \u001b[0;34m\u001b[0m\u001b[0m\n",
            "\u001b[0;32m/usr/local/lib/python3.7/dist-packages/ipykernel/kernelbase.py\u001b[0m in \u001b[0;36m_input_request\u001b[0;34m(self, prompt, ident, parent, password)\u001b[0m\n\u001b[1;32m    732\u001b[0m             \u001b[0;32mexcept\u001b[0m \u001b[0mKeyboardInterrupt\u001b[0m\u001b[0;34m:\u001b[0m\u001b[0;34m\u001b[0m\u001b[0;34m\u001b[0m\u001b[0m\n\u001b[1;32m    733\u001b[0m                 \u001b[0;31m# re-raise KeyboardInterrupt, to truncate traceback\u001b[0m\u001b[0;34m\u001b[0m\u001b[0;34m\u001b[0m\u001b[0;34m\u001b[0m\u001b[0m\n\u001b[0;32m--> 734\u001b[0;31m                 \u001b[0;32mraise\u001b[0m \u001b[0mKeyboardInterrupt\u001b[0m\u001b[0;34m\u001b[0m\u001b[0;34m\u001b[0m\u001b[0m\n\u001b[0m\u001b[1;32m    735\u001b[0m             \u001b[0;32melse\u001b[0m\u001b[0;34m:\u001b[0m\u001b[0;34m\u001b[0m\u001b[0;34m\u001b[0m\u001b[0m\n\u001b[1;32m    736\u001b[0m                 \u001b[0;32mbreak\u001b[0m\u001b[0;34m\u001b[0m\u001b[0;34m\u001b[0m\u001b[0m\n",
            "\u001b[0;31mKeyboardInterrupt\u001b[0m: "
          ]
        }
      ]
    },
    {
      "cell_type": "markdown",
      "metadata": {
        "id": "L4f4LFoge5Oc"
      },
      "source": [
        " EXCERCISE-7\n",
        " \n",
        "7 Files\n",
        " \n",
        "a) Write a program to print each line of a file in reverse order.\n",
        " \n",
        "b) Write a program to compute the number of characters, words and lines in a file."
      ]
    },
    {
      "cell_type": "markdown",
      "metadata": {
        "id": "FK3TV_Ov4ZcC"
      },
      "source": [
        "AIM \n",
        "\n",
        "\n",
        "a)  Write a program to print each line of a file in reverse order. "
      ]
    },
    {
      "cell_type": "markdown",
      "metadata": {
        "id": "YX7w1Z6N4e16"
      },
      "source": [
        "DESCRIPTION: \n",
        "\n",
        "\n",
        "The file handling plays an important role when the data needs to be stored permanently into the \n",
        "file. A file is a named location on disk to store related information. We can access the stored \n",
        "information (non-volatile) after the program termination. In Python, files are treated in two \n",
        "modes as text or binary. The file may be in the text or binary format, and each line of a file is \n",
        "ended with the special character. Hence, a file operation can be done in the following order.\n",
        "\n",
        "□ Open a file \n",
        "\n",
        "□ Read or write - Performing operation \n",
        "\n",
        "□ Close the file "
      ]
    },
    {
      "cell_type": "code",
      "metadata": {
        "id": "cNKZ6YlhfBYH"
      },
      "source": [
        " obj=open(\"sam.txt\",\"r\")\n",
        "if obj:\n",
        "    st=obj.read()\n",
        "    print(\"file content is:\")\n",
        "obj.close()\n",
        "print()\n",
        "lines=st.split('\\n')\n",
        "for ln in lines:\n",
        "    i=len(ln)-1\n",
        "    while(i>=0):\n",
        "      print(ln[i],end='')\n",
        "      i=i-1\n",
        "    print()"
      ],
      "execution_count": null,
      "outputs": []
    },
    {
      "cell_type": "markdown",
      "metadata": {
        "id": "THNgP6Me4teN"
      },
      "source": [
        "AIM: \n",
        "\n",
        " b)  Write a program to compute the number of characters, words and lines in a file "
      ]
    },
    {
      "cell_type": "markdown",
      "metadata": {
        "id": "oOr2z_FD4z2b"
      },
      "source": [
        "DESCRIPTION: \n",
        "\n",
        " Given a text file fname, the task is to count the total number of characters, words, spaces and \n",
        "lines in the file.\n",
        "\n",
        "As we know, Python provides multiple in-built features and modules for handling files. Let’s \n",
        "discuss different ways to calculate total number of characters, words, spaces and lines in a file \n",
        "using Python. \n",
        "\n",
        "Method #1: Naive approach \n",
        "\n",
        "In this approach, the idea is to solve the task by developing our own logic. Without using any \n",
        "built-in function of Python, the total number of characters, words, spaces and lines of the file will \n",
        "be calculated. \n",
        "\n",
        "Method #2: \n",
        "Using some built-in functions and OS module functions \n",
        "In this approach, the idea is to use the os.linesep() method of OS module to separate the lines \n",
        "on the current platform. When the interpreter’s scanner encounter os.linesep it replaces it with \n",
        "\\n character. After that strip() and split() functions will be used to carry out the task. "
      ]
    },
    {
      "cell_type": "code",
      "metadata": {
        "id": "Go_di3fJfFQR"
      },
      "source": [
        " obj=open(\"sam.txt\",\"r\")\n",
        "if obj:\n",
        "    st=obj.read()\n",
        "    print(\"file content is:\")\n",
        "obj.close()\n",
        "print()\n",
        "nc=nw=nl=0\n",
        "for ch in st:\n",
        "    if(ch):\n",
        "        nc=nc+1\n",
        "    if(ch==''):\n",
        "        nw=nw+1\n",
        "    if(ch=='\\n'):\n",
        "        nl=nl+1\n",
        " \n",
        "print(\"number of characters in a file:\",nc)\n",
        "print(\"number of words in file is:\",nw)\n",
        "print(\"number of lines ins file:\",nl)"
      ],
      "execution_count": null,
      "outputs": []
    },
    {
      "cell_type": "markdown",
      "metadata": {
        "id": "SeAjq46xfMyH"
      },
      "source": [
        " EXCERCISE-8\n",
        " \n",
        " \n",
        "   8 Functions'\n",
        " \n",
        "a) Write a function ball collide that takes two balls as parameters and computes if they arecolliding. Your function should return a Boolean representing whether or not the balls arecolliding. Hint: Represent a ball on a plane as a tuple of (x, y, r), r being the radius If (distance between two balls centers) <= (sum of their radii) then (they are colliding)\n",
        " \n",
        "b) Find mean, median, mode for the given set of numbers in a list."
      ]
    },
    {
      "cell_type": "markdown",
      "metadata": {
        "id": "Et2_FkuL5B_r"
      },
      "source": [
        "AIM: \n",
        "\n",
        "\n",
        "\n",
        "a) Write a function ball collide that takes two balls as parameters and computes if they \n",
        "arecolliding. Your function should return a Boolean representing whether or not the balls \n",
        "arecolliding.\n",
        "\n",
        "\n",
        "Hint: Represent a ball on a plane as a tuple of (x, y, r), r being the radius If (distance between two \n",
        "balls centers) <= (sum of their radii) then (they are colliding)"
      ]
    },
    {
      "cell_type": "markdown",
      "metadata": {
        "id": "18lK0gLC5Jrd"
      },
      "source": [
        "DESCRIPTION :\n",
        "\n",
        "\n",
        "Functions A function in python is a block of code that is defined for doing frequent operations in \n",
        "a particular task. The general format is \n",
        "def Functionname(arguments): \n",
        " Statements \n",
        "\n",
        "\n",
        " \n",
        " \n",
        "Calling a Function: \n",
        "\n",
        "A function can be called by its name followed by arguments within parenthesis. \n",
        "function() "
      ]
    },
    {
      "cell_type": "code",
      "metadata": {
        "id": "fUg7cPWefe5L"
      },
      "source": [
        " import math\n",
        "def ballcollide(b1tup,b2tup):\n",
        "    x1=b1tup[0]\n",
        "    y1=b1tup[1]\n",
        "    x2=b2tup[0]\n",
        "    y2=b2tup[1]\n",
        "    r1=b1tup[2]\n",
        "    r2=b2tup[2]\n",
        " \n",
        " \n",
        "    d=math.sqrt((x2-x1)**2+(y2-y1)**2)\n",
        "    if(d<=r1+r2):\n",
        "      return True\n",
        "    else:\n",
        "        return False\n",
        " \n",
        " \n",
        "ball1=(1,2,3)\n",
        "ball2=(3,2,1)\n",
        "c=ballcollide(ball1,ball2)\n",
        "if(c):\n",
        "    print(\"balls are collided\")\n",
        "else:\n",
        "    print(\"ball are not collided\")"
      ],
      "execution_count": null,
      "outputs": []
    },
    {
      "cell_type": "markdown",
      "metadata": {
        "id": "jQ2w0nec5Yal"
      },
      "source": [
        "AIM:\n",
        "\n",
        "\n",
        " b) Find mean, median, mode for the given set of numbers in a list "
      ]
    },
    {
      "cell_type": "markdown",
      "metadata": {
        "id": "IIHltLLt5n8R"
      },
      "source": [
        "DESCRIPTION :\n",
        "\n",
        "Mean :\n",
        "   The mean is the average of all numbers and is sometimes called the arithmetic mean. \n",
        "This code calculates Mean or Average of a list containing numbers: \n",
        "\n",
        "Median : \n",
        "   The median is the middle number in a group of numbers. This code calculates Median \n",
        "of a list containing numbers: \n",
        "\n",
        "Mode : \n",
        "The mode is the number that occurs most often within a set of numbers. This code \n",
        "calculates Mode of a list containing numbers: \n",
        "We will import Counter from collections library which is a built-in module in Python 2 and 3.\n",
        " This \n",
        "module will help us count duplicate elements in a list. We define a list of numbers and calculate \n",
        "the length of the list. We then call Counter (a dict subclass) which helps to count hashable \n",
        "objects, and we then convert it to dict object. We then initialize a list with a For Loop to compare \n",
        "all the dict values (Number of elements) to the max of all dict values (count of most occurring \n",
        "element) and it returns all the elements equal to max count. If the elements returned are equal to \n",
        "the number of total elements in a list then we print out ‘No mode’, else we print out the modes \n",
        "returned."
      ]
    },
    {
      "cell_type": "code",
      "metadata": {
        "id": "adcX5Mm0fkiv"
      },
      "source": [
        " def mean(numlist):\n",
        "    return sum(numlist)/len(numlist)\n",
        "def median(numlist):\n",
        "    numlist.sort()\n",
        "    print(numlist)\n",
        "    n=len(numlist)\n",
        "    print(\"total\",n)\n",
        "    mid=n//2\n",
        "    print(\"mid:\",mid)\n",
        "    if(n%2==0):\n",
        "        return numlist[mid]\n",
        "    else:\n",
        "        return (numlist[mid-1]+numlist[mid])/2\n",
        "def mode(numlist):\n",
        "    numlist.sort()\n",
        "    temp=[]\n",
        "    i=0\n",
        "    while i<len(numlist):\n",
        "        temp.append(numlist.count(numlist[i]))\n",
        "        i+=1\n",
        "    dic=dict(zip(numlist,temp))\n",
        "    modes={k for k, v in dic.items() if(v==max(temp))}\n",
        "    return modes\n",
        "list=[1,1,2,2,3,4,5,3,3]\n",
        "print(\"mean of guive list:\",mean(list))\n",
        "print(\"median of guive list:\",median(list))\n",
        " \n",
        "print(\"mode of guive list:\",mode(list))"
      ],
      "execution_count": null,
      "outputs": []
    },
    {
      "cell_type": "markdown",
      "metadata": {
        "id": "p70LcS73fzmx"
      },
      "source": [
        " Exercise - 9 \n",
        "Functions - Continued\n",
        " \n",
        "a) Write a function nearly equal to test whether two strings are nearly equal. Two strings a and bare nearly equal when a can be generated by a single mutation on b.\n",
        " \n",
        "b) Write a function dup to find all duplicates in the list.\n",
        " \n",
        "c) Write a function unique to find all the unique elements of a list."
      ]
    },
    {
      "cell_type": "markdown",
      "metadata": {
        "id": "aeLRHQVq6Cz8"
      },
      "source": [
        "AIM: \n",
        "\n",
        "\n",
        "a) Write a function nearly equal to test whether two strings are nearly \n",
        "\n"
      ]
    },
    {
      "cell_type": "markdown",
      "metadata": {
        "id": "Q3NnzzPU6MOZ"
      },
      "source": [
        "DESCRIPTION: \n",
        "\n",
        "\n",
        "\n",
        "strlen() function is used to check wether the two string are nearly equal or not by basis of the \n",
        "Length of those Strings\n",
        " len() function is an inbuilt function in Python programming language that returns the length of \n",
        "the string.\n",
        "\n",
        "len() is a built-in function in python.You can use the len() to get the length of the given string, \n",
        "array, list, tuple, dictionary, etc. \n",
        "\n",
        "Value: the given value you want the length of.\n",
        " \n",
        "Return value a return an integer value i.e. the length of the given string, or array, or list, or \n",
        "collections. \n",
        "Syntax: "
      ]
    },
    {
      "cell_type": "code",
      "metadata": {
        "id": "Z6vGLIRsf7YU"
      },
      "source": [
        " def nearlyeq(str1,str2):\n",
        "    count=0\n",
        "    i=j=0\n",
        "    ss=0\n",
        "    while(i<len(str1)and j<len(str2)):\n",
        "        if(str1[i]!=str2[j]):\n",
        "            count+=1\n",
        "        if(len(str1)>len(str2)):\n",
        "            i+=1\n",
        " \n",
        "        elif(len(str1)==len(str2)):\n",
        "            pass\n",
        "        else:\n",
        "            i-=1     \n",
        "        if(count>1):\n",
        "             ss-=1\n",
        "             \n",
        "        i+=1\n",
        "        j+=1\n",
        "        if(count<2):\n",
        "             ss+=1\n",
        " \n",
        "    return ss\n",
        "s1=input(\"enter a string 1:\")\n",
        "s2=input(\"enter the string2:\")\n",
        "t=nearlyeq(s1,s2)\n",
        "if(t>1):\n",
        "    print(\"neraly equal0\")\n",
        "else:\n",
        "    print(\"not nearly equal\")"
      ],
      "execution_count": null,
      "outputs": []
    },
    {
      "cell_type": "markdown",
      "metadata": {
        "id": "DzNk7Cht6iC-"
      },
      "source": [
        "AIM: \n",
        "\n",
        " b) Write a function dup to find all duplicates in the list."
      ]
    },
    {
      "cell_type": "markdown",
      "metadata": {
        "id": "AVrPqGmD6nO1"
      },
      "source": [
        "DESCRIPTION: \n",
        "\n",
        "To check if a list contains any duplicate element follow the following steps, \n",
        "\n",
        "1. Add the contents of list in a set.\n",
        "\n",
        "As set contains only unique elements, so no duplicates will be added the the set.  \n",
        " \n",
        " \n",
        "2. Compare the size of set and list. \n",
        " \n",
        "If size of list & set is equal then it means no duplicates in list.  \n",
        " \n",
        " \n",
        "3. If size of list & set are different then it means yes, there are duplicates in list."
      ]
    },
    {
      "cell_type": "code",
      "metadata": {
        "id": "cuvxPATbgCmc"
      },
      "source": [
        " def dup(list):\n",
        "  list1=[]\n",
        "  for i in list:\n",
        "    count=list.count(i)\n",
        "    if(count>1 and (i not in list1)):\n",
        "        list1.append(i)\n",
        "        \n",
        "  print(\"the dups int he list are:\",list1)        \n",
        "list2=[1,2,1,2]\n",
        " \n",
        "dup(list2)"
      ],
      "execution_count": null,
      "outputs": []
    },
    {
      "cell_type": "markdown",
      "metadata": {
        "id": "UVzjgVP3613z"
      },
      "source": [
        "AIM: \n",
        "\n",
        " c) Write a function unique to find all the unique elements of a list."
      ]
    },
    {
      "cell_type": "markdown",
      "metadata": {
        "id": "O3Nai4HI6596"
      },
      "source": [
        "DESCRIPTION:\n",
        "\n",
        "\n",
        "To find the unique in the list .There is a Specific Method i.e., \n",
        "\n",
        "Method : Traversal of list \n",
        "\n",
        "Using traversal, we can traverse for every element in the list and check if the element is in the \n",
        "unique_list already if it is not over there, then we can append it in the unique_list. \n",
        "This is done using one for loop and other if statement which check if the value is in the unique \n",
        "list or not which is equivalent to another for loop. "
      ]
    },
    {
      "cell_type": "code",
      "metadata": {
        "id": "J9Fx1TY0gF84"
      },
      "source": [
        " def unique(list1):\n",
        "  list2={}\n",
        " \n",
        "  for i in list1:\n",
        "    c=list1.count(i)\n",
        "    if c==1:\n",
        "      list2[i]=c\n",
        "  print(\"the unique elements in the list are:\",list2)\n",
        " \n",
        "list=[1,2,3,45,45,6,88,88,9]\n",
        "unique(list)"
      ],
      "execution_count": null,
      "outputs": []
    },
    {
      "cell_type": "markdown",
      "metadata": {
        "id": "DYL8f2zlgJZI"
      },
      "source": [
        " Exercise - 10\n",
        " - Functions - Problem Solving\n",
        " \n",
        "a) Write a function cumulative product to compute cumulative product of a list of numbers.\n",
        " \n",
        "b) Write a function reverse to reverse a list. Without using the reverse function.\n",
        " \n",
        "c) Write function to compute gcd, lcm of two numbers. Each function shouldn’t exceed one line"
      ]
    },
    {
      "cell_type": "markdown",
      "metadata": {
        "id": "pUs9t0Y17C1U"
      },
      "source": [
        "AIM: \n",
        "\n",
        "\n",
        "a) Write a function cumulative product to compute cumulative product of a list of numbers. "
      ]
    },
    {
      "cell_type": "markdown",
      "metadata": {
        "id": "br5NECI27IeX"
      },
      "source": [
        "DESCRIPTION: \n",
        "\n",
        "\n",
        "A cumulative product is a sequence of partial products of a given sequence. For example, the \n",
        "cumulative products of the sequence. , are , , .. Cumulative products can be implemented in the \n",
        "Wolfram Language as Rest[FoldList[Times, 1, list]] \n",
        "\n",
        "cumprod(A,1) works on successive elements in the columns of A and returns the \n",
        "cumulative  products  of  each  column.  cumprod(A,2)  works  on  successive  elements  in  the \n",
        "rows of A and returns the cumulative products of each row.\n",
        " \n",
        "umprod() function is used when we want to compute the cumulative product of array elements \n",
        "over a given axis. Syntax : numpy.cumprod(arr, axis=None, dtype=None, out=None) Parameters : \n",
        "arr : [array_like] Array containing numbers whose cumulative product is desired."
      ]
    },
    {
      "cell_type": "code",
      "metadata": {
        "id": "hmIugQWHgPeM"
      },
      "source": [
        " def cumulative_product(list1,n):\n",
        "    list2=[]\n",
        "    i=0\n",
        "    list2.append(list1[i])\n",
        "    for i in range(1,n):\n",
        "        v=list1[i]*list2[i-1]\n",
        "        list2.append(v)\n",
        "        \n",
        "    print(list2)\n",
        "list3=[]\n",
        "n=int(input(\"enter size :\"))\n",
        "print(\"enter the data:\")\n",
        "for i in range(0,n):\n",
        "    x=int(input())\n",
        "    list3.append(x)\n",
        "cumulative_product(list3,n)"
      ],
      "execution_count": null,
      "outputs": []
    },
    {
      "cell_type": "markdown",
      "metadata": {
        "id": "dPbDK-ke7RP2"
      },
      "source": [
        "AIM: \n",
        "\n",
        "\n",
        " b) Write a function reverse to reverse a list. Without using the reverse function. "
      ]
    },
    {
      "cell_type": "markdown",
      "metadata": {
        "id": "0HGIjxR97dkn"
      },
      "source": [
        "DESCRIPTION: \n",
        "\n",
        "\n",
        "\n",
        "In this Python code snippet post, we are going to implement a list reverse function from the \n",
        "scratch without using any builtin functions. \n",
        "Let us see how... \n",
        "\n",
        "Iterative solution \n",
        "We can use a for loop to swap the first and last items, the second and the one before the last \n",
        "item and so on until the list is reversed in place. The number of iterations needed is half the list \n",
        "size. If the list has an odd number of items then the middle item will stay in its place. "
      ]
    },
    {
      "cell_type": "code",
      "metadata": {
        "id": "YxKH5-nqgTkb"
      },
      "source": [
        " def reverse_list(numlist):\n",
        "    temp=list1[::-1]\n",
        "    numlist=temp\n",
        "    return temp\n",
        "list1=[1,2,3,4]\n",
        "print(\"giiven list is :\",list1)\n",
        "print(\"after reverse function:\",reverse_list(list1))\n",
        "print(\"after list is:\",list1)"
      ],
      "execution_count": null,
      "outputs": []
    },
    {
      "cell_type": "markdown",
      "metadata": {
        "id": "0eBRt5Cc7mkc"
      },
      "source": [
        "AIM: \n",
        "\n",
        "\n",
        " c) Write function to compute gcd, lcm of two numbers. Each function shouldn’t exceed one line. "
      ]
    },
    {
      "cell_type": "markdown",
      "metadata": {
        "id": "nhOB9lCt7q9O"
      },
      "source": [
        "DESCRITION:\n",
        "\n",
        "  Python provides you an anonymous function called lambda. It can take any number of \n",
        "arguments, but can only have one expression. It can be used to find LCM and GCD values \n",
        "without exceeding each from from one line. \n",
        "The general format is\n",
        "\n",
        "lambda arguments: expression \n",
        "\n",
        "The expression is executed during the function call and the result is returned.\n",
        "\n",
        "Lambda as a Function \n",
        "\n",
        "The power of using a lambda expression is implementing it using a function "
      ]
    },
    {
      "cell_type": "code",
      "metadata": {
        "id": "GJzJRvrngX-Z"
      },
      "source": [
        " gcd=lambda a,b: a if b==0 else gcd(a,a%b)\n",
        "lcm=lambda a,b: (a*b)/gcd(a,b)\n",
        " \n",
        "x=4\n",
        "y=24\n",
        "print(\"gcd=\",gcd(x,y))\n",
        "print(\"lcm=\",lcm(x,y))"
      ],
      "execution_count": null,
      "outputs": []
    },
    {
      "cell_type": "markdown",
      "metadata": {
        "id": "l6Ll81KMgbbz"
      },
      "source": [
        " Exercise 11\n",
        " - Multi-D Lists\n",
        " \n",
        "a) Write a program that defines a matrix and prints\n",
        " \n",
        "b) Write a program to perform addition of two square matrices\n",
        " \n",
        "c) Write a program to perform multiplication of two square matrices"
      ]
    },
    {
      "cell_type": "markdown",
      "metadata": {
        "id": "acHRi9x673-6"
      },
      "source": [
        "AIM: \n",
        "\n",
        "a)  Write a program that defines a matrix and prints "
      ]
    },
    {
      "cell_type": "markdown",
      "metadata": {
        "id": "vdNxoFGy78V_"
      },
      "source": [
        "DESCRIPTION: \n",
        "\n",
        "\n",
        "Lists are a very widely use data structure in python. They contain a list of elements separated by \n",
        "comma. But sometimes lists can also contain lists within them. These are called nested lists or \n",
        "multidimensional lists. In this article we will see how to create and access elements in a \n",
        "multidimensional list. \n",
        "\n",
        "Methods on Multidimensional lists \n",
        "\n",
        "1. append(): Adds an element at the end of the list. \n",
        "\n",
        "2. extend(): Add the elements of a list (or any iterable), to the end of the current list. \n",
        "\n",
        "3. reverse(): Reverses the order of the list. "
      ]
    },
    {
      "cell_type": "code",
      "metadata": {
        "id": "3n02NL5YgjyZ"
      },
      "source": [
        " def mat_read(rows,cols):\n",
        "    mat=[[int(input(\"Enter the mat[%d,%d] value \"%(i,j)))for j in range(cols)]for i in range (rows)]\n",
        "    return mat\n",
        "def print_mat(rows,cols,mat):\n",
        "    for i in range(rows):\n",
        "        for j in range (cols):\n",
        "            print(mat[i][j],end='\\t')\n",
        "        print()\n",
        "    \n",
        "matA=[[]]\n",
        "matB=[[]]\n",
        "mat_sum=[[]]\n",
        " \n",
        " \n",
        "rows=int(input(\"Enter the row size \"))\n",
        "cols=int(input(\"Enter the column size \"))\n",
        " \n",
        "if(rows==cols):\n",
        "    print(\"For matrix A\")\n",
        "    matA=mat_read(rows,cols)\n",
        "    \n",
        "    print(\"For matrix B\")\n",
        "    matB=mat_read(rows,cols)\n",
        "    \n",
        "    mat_sum=[[matA[i][j]+matB[i][j] for j in range(cols)]for i in range (rows)]\n",
        " \n",
        "    print(\"Matrix A \")\n",
        "    print_mat(rows,cols,matA)\n",
        "    \n",
        "    print(\"Matrix B \")\n",
        "    print_mat(rows,cols,matB)\n",
        "    \n",
        "    print(\"Matrix A+B = \")\n",
        "    print_mat(rows,cols,mat_sum)\n",
        "else:\n",
        "    print(\"Matrix Addition is not"
      ],
      "execution_count": null,
      "outputs": []
    },
    {
      "cell_type": "markdown",
      "metadata": {
        "id": "SnyBLDju8Gih"
      },
      "source": [
        "AIM: \n",
        "\n",
        "\n",
        " b)  Write a program to perform addition of two square matrices "
      ]
    },
    {
      "cell_type": "markdown",
      "metadata": {
        "id": "_ZmvOIUl8M6F"
      },
      "source": [
        " \n",
        " \n",
        "   \n",
        " \n",
        "DESCRIPTION: \n",
        "\n",
        "\n",
        "We can perform matrix addition in following ways in Python. \n",
        "\n",
        "1. Using for loop: \n",
        "\n",
        " \n",
        "Explanation :- In this program we have used nested for loops to iterate through each row and each column. At each point we add the corresponding elements in the two matrices and store it \n",
        "in the result. \n",
        "\n",
        "2. Using nested list comprehension : \n",
        "\n",
        "In Python, we can implement a matrix as nested list (list inside a list). We can treat each element as a row of the matrix.\n",
        "\n",
        "Explanation :- \n",
        "\n",
        "The output of this program is the same as above. We have used nested list comprehension to iterate through each element in the matrix. List comprehension allows us to write concise codes and we must try to use them frequently in Python. They are very helpful\n",
        "\n",
        " \n",
        " \n",
        "3. uising zip function \n",
        "\n",
        " \n",
        "Explanation : \n",
        "\n",
        "The zip function accepts iterator i of each element(list) of matrix, mapping them, adding them \n",
        "using sum() and storing them in the map for"
      ]
    },
    {
      "cell_type": "code",
      "metadata": {
        "id": "TNE-URYhgoHR"
      },
      "source": [
        " def mat_read(rows,cols):\n",
        "    mat=[[int(input(\"Enter the mat[%d,%d] value \"%(i,j)))for j in range(cols)]for i in range (rows)]\n",
        "    return mat\n",
        "def print_mat(rows,cols,mat):\n",
        "    for i in range(rows):\n",
        "        for j in range (cols):\n",
        "            print(mat[i][j],end='\\t')\n",
        "        print()\n",
        "    \n",
        "matA=[[]]\n",
        "matB=[[]]\n",
        "mat_mul=[[]]\n",
        " \n",
        " \n",
        "rows=int(input(\"Enter the row size \"))\n",
        "cols=int(input(\"Enter the column size \"))\n",
        " \n",
        "if(rows==cols):\n",
        "    print(\"For matrix A\")\n",
        "    matA=mat_read(rows,cols)\n",
        "    \n",
        "    print(\"For matrix B\")\n",
        "    matB=mat_read(rows,cols)\n",
        "    \n",
        "    mat_mul=[[0 for j in range(cols)]for i in range (rows)]\n",
        " \n",
        "    for i in range (rows):\n",
        "        for j in range(cols):\n",
        "            for k in range(cols):\n",
        "                mat_mul[i][j]+=matA[i][k]*matB[k][j]\n",
        " \n",
        "    print(\"Matrix A \")\n",
        "    print_mat(rows,cols,matA)\n",
        "    \n",
        "    print(\"Matrix B \")\n",
        "    print_mat(rows,cols,matB)\n",
        "    \n",
        "    print(\"Matrix A*B = \")\n",
        "    print_mat(rows,cols,mat_mul)\n",
        "else:\n",
        "    print(\"Matrix multiplication is not"
      ],
      "execution_count": null,
      "outputs": []
    },
    {
      "cell_type": "markdown",
      "metadata": {
        "id": "KaHPx2gigzr0"
      },
      "source": [
        " Exercise - 13 OOP\n",
        " \n",
        "a) Class variables and instance variable and illustration of the self-variable\n",
        " \n",
        "i) Robot\n",
        " \n",
        "ii) ATM Machine"
      ]
    },
    {
      "cell_type": "markdown",
      "metadata": {
        "id": "uo6pk4-H8yVP"
      },
      "source": [
        "AIM: \n",
        "\n",
        "\n",
        " a)class variables and instance variable and illustration of the self -variable "
      ]
    },
    {
      "cell_type": "markdown",
      "metadata": {
        "id": "H-6nb3Qv9E1d"
      },
      "source": [
        "DESCRIPTION: \n",
        "\n",
        "\n",
        "\n",
        "Variables are named storage location. In python variables are not defined by its type instead it \n",
        "will be automatically determined by the value assigned to it. To determine the type of a variable \n",
        "a function called type () is used. \n",
        "\n",
        "class variableis shared by all object instances of a class. .... They are not defined inside any \n",
        "methods of a class. Because a class variable is shared by instances of a class, the Python class \n",
        "owns the variable. As a result, all instances of the class will be able to access that variable \n",
        "\n",
        "Instance variables are owned by instances of the class. This means that for each object or \n",
        "instance of a class, the instance variables are different..... Instance variables, owned by objects \n",
        "of the class, allow for each object or instance to have different values assigned to those \n",
        "variables \n",
        "\n",
        "self variable is used to bind the instance of the class to the instance method. We have to \n",
        "explicitly declare it as the first method argument to access the instance variables and methods. \n",
        "\n",
        "This variable is used only with the instance methods"
      ]
    },
    {
      "cell_type": "markdown",
      "metadata": {
        "id": "G8OzkEtl9mTi"
      },
      "source": [
        "1.ATM MACHINE"
      ]
    },
    {
      "cell_type": "code",
      "metadata": {
        "id": "RYCuw7HNg52_"
      },
      "source": [
        " class ATM :\n",
        "    def _init_(self):\n",
        "        self.balance=1000\n",
        "        \n",
        "    def check_balance(self):\n",
        "          print(\"The balance in your account is ::\",self.balance)\n",
        "    def withdraw_balance(self):\n",
        "        print(\"Enter balance to withdraw\")\n",
        "        self._init_()\n",
        "        self.amount=int(input())\n",
        "        if self.amount>self.balance:\n",
        "            print(\"Insuffient amount\")\n",
        "        else:\n",
        "            self.balance-=self.amount\n",
        "            self.check_balance()\n",
        "    def deposite_balance(self):\n",
        "        print(\"Enter balance to deposite\")\n",
        "        self._init_()\n",
        "        self.amount=int(input())\n",
        "        self.balance=self.balance+self.amount\n",
        "        self.check_balance()\n",
        "print(\"Enter     1 for balance checking\\n 2 for balance withdraw\\n 3 for balance deposite\\n\")\n",
        "a=ATM()\n",
        "while (True):\n",
        "    choice=int(input(\"Enter your choice\"))\n",
        "    if choice==1:\n",
        "        a.check_balance()\n",
        "    elif choice==2:\n",
        "        a.withdraw_balance()\n",
        "    elif choice==3:\n",
        "        a.deposite_balance()\n",
        "    else:\n",
        "        print(\"Invalid choice\")\n",
        "        break"
      ],
      "execution_count": null,
      "outputs": []
    },
    {
      "cell_type": "markdown",
      "metadata": {
        "id": "Ir56_kNx9Z7s"
      },
      "source": [
        ""
      ]
    },
    {
      "cell_type": "markdown",
      "metadata": {
        "id": "m1zMJJtw9up8"
      },
      "source": [
        "2.ROBOT"
      ]
    },
    {
      "cell_type": "code",
      "metadata": {
        "id": "LUv4FEwZg9su"
      },
      "source": [
        " class robot_design ():\n",
        "    name=\"chitti\"\n",
        "    speed=\"1ZB\"\n",
        "    memory=\"1TB\"\n",
        "    version=\"1.0\"\n",
        "    def update(self):\n",
        "        print(\"Entet your robot name,speed,memory,version\")\n",
        "        self.name=input()\n",
        "        self.speed=input()\n",
        "        self.memory=input()\n",
        "        self.version=input()\n",
        "    def display(self):\n",
        "        print(\"Your robot name,speed,memory,version is ::\",self.name,self.speed,self.memory,self.version)\n",
        " \n",
        "r=robot_design()\n",
        "r.update()\n",
        "r.display()"
      ],
      "execution_count": null,
      "outputs": []
    },
    {
      "cell_type": "markdown",
      "metadata": {
        "id": "IjmrORvXHn4x"
      },
      "source": [
        " Exercise 12-Modules\n",
        "a) Install package requests,flasks and explore them.using(pip)\n",
        "b) write a script that imports requests and fetch content from the page.Eg(wiki)\n",
        "c) write a simple script that serves a simple HTTPResponse and simple HTML page"
      ]
    },
    {
      "cell_type": "markdown",
      "metadata": {
        "id": "B2rP6pRr_M6K"
      },
      "source": [
        "AIM: \n",
        " b) Write a scripts that imports requests and fetch content from the page.Eg. (Wiki)code: "
      ]
    },
    {
      "cell_type": "markdown",
      "metadata": {
        "id": "jDAlChxNArbl"
      },
      "source": [
        "DESCRIPTION: \n",
        "\n",
        "\n",
        "The Hypertext Transfer Protocol (HTTP) is an application protocol for distributed, collaborative, \n",
        "hypermedia information systems. HTTP is the foundation of data communication for the World \n",
        "Wide Web. \n",
        "\n",
        "Python requests \n",
        "Requests is a simple and elegant Python HTTP library. It provides methods for accessing Web \n",
        "\n",
        "resources via HTTP. \n",
        "\n",
        "Python requests reading a web page \n",
        "\n",
        "The get() method issues a GET request; it fetches documents identified by the given URL. "
      ]
    },
    {
      "cell_type": "code",
      "metadata": {
        "id": "m2e-1P-ZIhPt"
      },
      "source": [
        " import requests\n",
        " \n",
        "r=requests.get('https://www.google.com')\n",
        " \n",
        "print(\"Statuscode:\",r.status_code)\n",
        " \n",
        "print(\"Header Content:\",r.headers['content-type'])\n",
        "print(r.text)"
      ],
      "execution_count": null,
      "outputs": []
    },
    {
      "cell_type": "markdown",
      "metadata": {
        "id": "rassDutF_VLR"
      },
      "source": [
        "AIM: \n",
        "\n",
        " a) Install packages requests,flask and explore them using(pip) "
      ]
    },
    {
      "cell_type": "markdown",
      "metadata": {
        "id": "AX5gyp5h_jce"
      },
      "source": [
        "DESCRIPTION:\n",
        "\n",
        "\n",
        "\n",
        "\n",
        "\n",
        "Installing the pip Python package manager on Windows If you are on Windows, and your installed Python the current version, you already have pip! If your Python installation is not the most recent, the easiest thing to do is to simply reinstall it. Download the Python Windows installer at hhtps://www.python.org/downloads/. In Windows, the variable that controls which programs are accessible from the command line is path. To modify your path to include Python and pip, we have to add C:\\Python27 and C:\\Python27\\Tools. Edit the Windows path by opening the Windows menu, right-clicking on Computer and clicking on Properties. Under Advanced system settings, click Environment Variables. Scroll down until you find Path, double-click it, and add ;C:\\Python27;C:\\Python27\\Tools to the end.\n",
        "\n",
        "\n",
        "Installing packages: Suppose you want to install a package called requests (which is used to make HTTP requests). You need to issue the following command. pip install requests show installed packages You can use the following command to get information about a installed package, i.e Package name, version, location, dependencies. pip show package_name\n",
        "\n",
        "\n",
        "\n",
        "install flask On Mac and Linux, because you are installing programs outside the user-owned folders, you might have to prepend sudo to the install commands. To install Flask, simply run this: $ pip install flask\n",
        "\n",
        "show installed flask You can use the following command to get information about a installed flask, i.e Package name, version, location, dependencies $ pip show flask"
      ]
    },
    {
      "cell_type": "markdown",
      "metadata": {
        "id": "rZ9ATn0A_dG5"
      },
      "source": [
        ""
      ]
    },
    {
      "cell_type": "code",
      "metadata": {
        "id": "E3G58BQmIoqs"
      },
      "source": [
        " from flask import Flask,render_template\n",
        "app=Flask(__name__)\n",
        "print(app)\n",
        "@app.route(\"/\")\n",
        "def main():\n",
        "  return render_template(\"login.html')\n",
        "if__name__==\"__main__\":\n",
        "  app.run(host=\"127.0.0.1\",port=2500)"
      ],
      "execution_count": null,
      "outputs": []
    },
    {
      "cell_type": "markdown",
      "metadata": {
        "id": "EE1LrMuVA9Yf"
      },
      "source": [
        "AIM: \n",
        "\n",
        "\n",
        " c) Write a simple script that serves a simple HTTPResponse and Simple HTML page. "
      ]
    },
    {
      "cell_type": "markdown",
      "metadata": {
        "id": "yXYgOaP8BHUJ"
      },
      "source": [
        "DESCRIPTION: \n",
        "\n",
        "\n",
        "HTTP Protocol \n",
        "The most important part of a web server is HTTP protocol.So now we will see what exactly this \n",
        "is – \n",
        "\n",
        "It stands for Hyper Text Transfer Protocol. \n",
        "\n",
        "It is an application layer protocol that allows web based applications to communicate and \n",
        "exchange data. \n",
        "\n",
        "The HTTP is the messenger of web. \n",
        "\n",
        "The computer that communicate via the HTTP must speak the HTTP protocol. \n",
        "It is a TCP/IP based protocol. \n",
        "\n",
        "It is used to deliver contents, for eg. images, audios, videos, documents etc. \n",
        "Using HTTP is the most convenient way to quickly and reliably move data on the web. \n",
        "\n",
        "HTML stands for hypertext markup language. It is the standard markup language for web pages \n",
        "\n",
        "that define the structure of the content. These elements are the building blocks of any website"
      ]
    },
    {
      "cell_type": "code",
      "metadata": {
        "id": "lGUzTIIdBUL3"
      },
      "source": [
        "PROGRAM: \n",
        " \n",
        "  \n",
        "from flask import Flask,render_template \n",
        "app=Flask( name ) \n",
        "print(app) \n",
        "@app.route(\"/\") \n",
        " \n",
        "def main(): \n",
        "return render_template('abc.html') \n",
        " if name ==\" main \": \n",
        "app.run(host=\"127.0.0.1\",port=2500) \n",
        " \n",
        " \n",
        "<Flask ' main '> \n",
        "\n",
        " \n",
        " \n",
        "* Serving Flask app \" main \" (lazy loading) \n",
        "* Environment: production \n",
        "WARNING: This is a development server. Do not use it in a production deployment. \n",
        "Use a production WSGI server instead. \n",
        "* Debug mode: off \n",
        "* Running on http://127.0.0.1:2500/ (Press CTRL+C to quit) "
      ],
      "execution_count": null,
      "outputs": []
    },
    {
      "cell_type": "markdown",
      "metadata": {
        "id": "iR-6BF8kIuiI"
      },
      "source": [
        " Exercise14:GUI,Graphics\n",
        "1.Write a GUI for an Expression Calculator using tk.\n",
        "2.Write a program to implement the following figures using turtle"
      ]
    },
    {
      "cell_type": "markdown",
      "metadata": {
        "id": "BT8yw50eBkxh"
      },
      "source": [
        "AIM:\n",
        "a. Write a GUI for an Expression Calculator using tk "
      ]
    },
    {
      "cell_type": "markdown",
      "metadata": {
        "id": "fL18LdlBBqBH"
      },
      "source": [
        "DESCRIPTION: \n",
        "\n",
        "\n",
        "Tkinter is a Python package which comes with many functions and methods that can be used to \n",
        "create an application. In order to create a tkinter application, we generally create an instance of \n",
        "tkinter frame, i.e., Tk(). It helps to display the root window and manages all the other \n",
        "components of the tkinter application. We can initialize the tkinter instance by assigning the \n",
        "variable to it. "
      ]
    },
    {
      "cell_type": "code",
      "metadata": {
        "id": "JZscBSVFI1BA"
      },
      "source": [
        " import turtle\n",
        "c=[\"red\",\"green\",\"blue\"]\n",
        "i=0\n",
        "turtle.pensize(5)\n",
        " \n",
        "for angle in range(0,360,30):\n",
        "    if i>2:\n",
        "        i=0\n",
        "    turtle.color(c[i])\n",
        "    turtle.seth(angle)\n",
        "    turtle.circle(50)\n",
        "    i+=1"
      ],
      "execution_count": null,
      "outputs": []
    },
    {
      "cell_type": "markdown",
      "metadata": {
        "id": "ceAEmNA5B6vM"
      },
      "source": [
        "AIM: \n",
        "\n",
        " b. Write a program to implement the following figures using turtle "
      ]
    },
    {
      "cell_type": "markdown",
      "metadata": {
        "id": "etrIOsnECAON"
      },
      "source": [
        "DESCRIPTION: \n",
        "\n",
        "\n",
        "The turtle module is an extended reimplementation of the same-named module from the Python \n",
        "standard distribution up to version Python 2.5. \n",
        "It tries to keep the merits of the old turtle module and to be (nearly) 100% compatible with it. \n",
        "This means in the first place to enable the learning programmer to use all the commands, \n",
        "classes and methods interactively when using the module from within IDLE run with the -n \n",
        "switch. \n",
        "The turtle module provides turtle graphics primitives, in both object-oriented and procedure- \n",
        "oriented ways. Because it uses tkinter for the underlying graphics, it needs a version of Python \n",
        " \n",
        " \n",
        "installed with Tk support."
      ]
    },
    {
      "cell_type": "code",
      "metadata": {
        "id": "lcubPYq6I57G"
      },
      "source": [
        " import turtle\n",
        "turtle.pensize(1)\n",
        " \n",
        "for i in range(36):\n",
        "    for j in range(4):\n",
        "        turtle.forward(70)\n",
        "        turtle.left(90)\n",
        "    turtle.left(10)"
      ],
      "execution_count": null,
      "outputs": []
    },
    {
      "cell_type": "markdown",
      "metadata": {
        "id": "V-nkiAdmJDTu"
      },
      "source": [
        " Exercise 15: Testing\n",
        "a)Write a test case to check the function even numbers which return true on passing a list of all even numbers.\n",
        "b) Write a test-case to check the function reverse string which returns the reversed string"
      ]
    },
    {
      "cell_type": "markdown",
      "metadata": {
        "id": "q7fIa9OQCOhN"
      },
      "source": [
        "AIM: \n",
        "\n",
        "\n",
        " a) Write a test-case to check the function even numbers which return True on passing a list of all even numbers "
      ]
    },
    {
      "cell_type": "markdown",
      "metadata": {
        "id": "_DQkEb3ACV0j"
      },
      "source": [
        "DESCRIPTION: \n",
        "\n",
        "\n",
        "TestCase is used to create test cases by subclassing it. The last block of the code at the bottom \n",
        "allows us to run all the tests just by running the file. Basic terms used in the code : assertEqual() \n",
        "– This statement is used to check if the result obtained is equal to the expected result \n",
        "\n",
        "test case: \n",
        "A test case is a set of conditions which is used to determine whether a system under test works \n",
        "correctly."
      ]
    },
    {
      "cell_type": "code",
      "metadata": {
        "colab": {
          "base_uri": "https://localhost:8080/"
        },
        "id": "9S_4-Y0HJHo_",
        "outputId": "71fc061f-d10e-48a9-823f-5b37c8812d0e"
      },
      "source": [
        " def evnNo(num):\n",
        "    stat=True\n",
        " \n",
        "    for i in num:\n",
        "        if i%2 ==1:\n",
        "            stat=False\n",
        "            break\n",
        "    return stat\n",
        "        \n",
        "numbers=[]\n",
        "for i in range(0,2):\n",
        "    numbers.append(int(input(\"Enter a value\")))\n",
        "print(evnNo(numbers))"
      ],
      "execution_count": null,
      "outputs": [
        {
          "output_type": "stream",
          "text": [
            "Enter a value4\n",
            "Enter a value2\n",
            "True\n"
          ],
          "name": "stdout"
        }
      ]
    },
    {
      "cell_type": "markdown",
      "metadata": {
        "id": "y0frJC8PCdqQ"
      },
      "source": [
        "AIM: \n",
        "\n",
        "\n",
        "b) Write a test-case to check the function reverse string which returns the reversed string "
      ]
    },
    {
      "cell_type": "markdown",
      "metadata": {
        "id": "z82K19ReCjdM"
      },
      "source": [
        "DESCRIPTION:\n",
        "\n",
        "\n",
        "Python string library does’nt support the in-built “reverse()” as done by other python containers \n",
        "like list, hence knowing other methods to reverse string can prove to be useful. This article \n",
        "discusses several ways to achieve it. \n",
        "The reversed() returns the reversed iterator of the given string and then its elements are joined \n",
        "empty string separated using join(). And reversed order string is formed. "
      ]
    },
    {
      "cell_type": "code",
      "metadata": {
        "colab": {
          "base_uri": "https://localhost:8080/"
        },
        "id": "POPsGnsCJTGv",
        "outputId": "bc4931b6-8e15-4607-8a14-d6c1e9930d11"
      },
      "source": [
        " def rev_str(st):\n",
        "    return st[::-1]\n",
        " \n",
        "st=\"swarnandhra\"\n",
        "print(\"Given String is: \",st)\n",
        " \n",
        "print(\"Reverse is: \",rev_str(st))"
      ],
      "execution_count": null,
      "outputs": [
        {
          "output_type": "stream",
          "text": [
            "Given String is:  swarnandhra\n",
            "Reverse is:  arhdnanraws\n"
          ],
          "name": "stdout"
        }
      ]
    },
    {
      "cell_type": "markdown",
      "metadata": {
        "id": "r2Rpr3OGJx7t"
      },
      "source": [
        " Exercise - 16 - Advanced\n",
        "a) Build any one classical data structure.\n",
        "b) Write a program to solve knapsack problem"
      ]
    },
    {
      "cell_type": "markdown",
      "metadata": {
        "id": "aSHagazmCp_t"
      },
      "source": [
        "AIM: \n",
        "\n",
        "\n",
        " a) Build any one classical data structure. "
      ]
    },
    {
      "cell_type": "markdown",
      "metadata": {
        "id": "EP0KJdrQCuLM"
      },
      "source": [
        "DESCRIPTION: \n",
        "\n",
        "\n",
        "What is a Data Structure? \n",
        "Organizing, managing and storing data is important as it enables easier access and eficient \n",
        "modifications. Data Structures allows you to organize your data in such a way that enables you \n",
        "to store collections of data, relate them and perform operations on them accordingly. \n",
        "\n",
        "\n",
        "Stack Stacks are linear Data Structures which are based on the principle of Last-In-First-Out \n",
        "(LIFO) where data which is entered last will be the first to get accessed. It is built using the array \n",
        "structure and has operations namely, pushing (adding) elements, popping (deleting) elements \n",
        "and accessing elements only from one point in the stack called as the TOP. This TOP is the \n",
        "pointer to the current position of the stack. Stacks are prominently used in applications such as \n",
        "Recursive Programming, reversing words, undo mechanisms in word editors and so forth. "
      ]
    },
    {
      "cell_type": "code",
      "metadata": {
        "id": "6oxU_acyJ3As"
      },
      "source": [
        " import sys\n",
        "a=[]\n",
        "while True: \n",
        "print(\"1.PUSH 2.POP 3.DISPLAY 4.EXIT\")\n",
        " ch=int(input(\"Enter Your Choice: \"))\n",
        "if ch==1:\n",
        "    ele=int(input(\"Enter element: \"))\n",
        "    a.append(ele).\n",
        "    print (\"Inserted\") \n",
        "elif ch==2:\n",
        "  if len(a)==0: \n",
        "     print(\"\\t STACK IS EMPTY\")\n",
        "  else:\n",
        "     print(\"Deleted element is: \", a[len(a)-1])\n",
        "     a.remove (a [len (a) -1])\n",
        "elif ch==3:\n",
        "  if len(a)==0:\n",
        "     print(\"\\t STACK IS EMPTY\")\n",
        "  else:\n",
        "     print(\"\\tThe Elements in Stack is: \") \n",
        "     for i in reversed(a):\n",
        "       print (i)\n",
        "elif ch==4: \n",
        "   sys.exit()\n",
        "else: \n",
        "   print(\"\\tINVALID CHOICE\")"
      ],
      "execution_count": null,
      "outputs": []
    },
    {
      "cell_type": "markdown",
      "metadata": {
        "id": "8hFhNW_6C25e"
      },
      "source": [
        "AIM:  \n",
        "\n",
        "Enter Element: 16 \n",
        "\n",
        "b) Write a program to solve knapsack problem "
      ]
    },
    {
      "cell_type": "markdown",
      "metadata": {
        "id": "Zp9HQtSHC-QS"
      },
      "source": [
        "DESCRIPTION: \n",
        "\n",
        "\n",
        "Python Program for 0-1 Knapsack Problem \n",
        "Problem statement − We are given weights and values of n items, we need to put these items in \n",
        "a bag of capacity W up to the maximum capacity w. We need to carry a maximum number of \n",
        "items and return its \n",
        "value. Brute-force \n",
        "approach"
      ]
    },
    {
      "cell_type": "code",
      "metadata": {
        "id": "8K5ibEyJKIf4"
      },
      "source": [
        " def knapSack(W,wt,val,n): \n",
        " K=[[0 for x in range(W+1)] for x in range(n+1)]\n",
        "for i in range(n+1):\n",
        "  for w in range(W+1):\n",
        "   if i==0orw==0:\n",
        "      K[i][w]=0\n",
        "   elif wt[i-1]<=w:\n",
        "      K[i][w]=max(val[i-1]+ K[i-1][w-wt[i-1]],K[i-1][w]) \n",
        "   else:\n",
        "      K[i][w]=K[i-1][w]\n",
        "return K[n][W]\n",
        "val= [5,3,4]\n",
        "wt=[3,2,1]\n",
        "W=5\n",
        "n=len(val)\n",
        "print(\"Maximum value knapsack of capacity W: \","
      ],
      "execution_count": null,
      "outputs": []
    },
    {
      "cell_type": "markdown",
      "metadata": {
        "id": "LiH71TdoKVfL"
      },
      "source": [
        " Exercise - 17-Data Analysis\n",
        "Data analysis or manipulation using the following packages\n",
        "a) Numpy b) Pandas\n",
        "Exercise - 17 - Advanced Data analysis or manipulation using the following packages\n",
        "a) Scipy b) matplotlib"
      ]
    },
    {
      "cell_type": "markdown",
      "metadata": {
        "id": "uQTcR2W2DKKu"
      },
      "source": [
        "AIM:\n",
        " \n",
        "  \n",
        "1. Data analysis or manipulation using the following packages \n",
        "a) Numpy b) Pandas a) Scipy b) matplotlib "
      ]
    },
    {
      "cell_type": "markdown",
      "metadata": {
        "id": "UgEGmb99DPUl"
      },
      "source": [
        "DESCRIPTION: \n",
        "\n",
        "\n",
        "Learn how to analyze data using Python..... It includes following parts: Data Analysis libraries: \n",
        "will learn to use Pandas, Numpy and Scipy libraries to work with a sample dataset. We will \n",
        "introduce you to pandas, an open-source library, and we will use it to load, manipulate, analyze, \n",
        "and visualize cool datasets. \n",
        "\n",
        "\n",
        "SciPy is a free and open-source Python library used for scientific computing and technical \n",
        "computing. It is a collection of mathematical algorithms and convenience functions built on the \n",
        "\n",
        "NumPy extension of Python\n",
        "\n",
        "NumPy is the fundamental package for scientific computing in Python. .... NumPy arrays \n",
        "facilitate advanced mathematical and other types of operations on large numbers of data. \n",
        "\n",
        "Matplotlib is a plotting library for the Python programming language and its numerical \n",
        "mathematics extension NumPy. It provides an object-oriented API for embedding plots into \n",
        "applications using general-purpose GUI toolkits like Tkinter, wxPython, Qt, or GTK \n",
        "\n",
        "Pandas is an open source Python package that is most widely used for data science/data \n",
        "\n",
        "analysis and machine learning tasks. It is built on top of another package named Numpy, which \n",
        "provides support for multi-dimensional arrays. \n",
        "Scikit-learn is probably the most useful library for machine learning in Python. The sklearn \n",
        "\n",
        "library contains a lot of eficient tools for machine learning and statistical modeling including \n",
        "\n",
        "classification, regression, clustering and dimensionality reduction. \n",
        "Seaborn is a library in Python predominantly used for making statistical graphics. Seaborn is a \n",
        "data visualization library built on top of matplotlib and closely integrated with pandas data \n",
        "\n",
        "structures in Python"
      ]
    },
    {
      "cell_type": "code",
      "metadata": {
        "colab": {
          "base_uri": "https://localhost:8080/"
        },
        "id": "e_q6ZRYrKZjz",
        "outputId": "b54fc1aa-265d-47fb-8586-a1c4f9e320cd"
      },
      "source": [
        " import sys\n",
        " \n",
        "print('Python:{}'.format(sys.version))\n",
        " \n",
        "#scipy\n",
        " \n",
        "import scipy\n",
        "print('scipy: {}'.format(scipy.__version__))\n",
        " \n",
        "#numpy \n",
        " \n",
        "import numpy\n",
        "print('numpy:{}'.format(numpy.__version__))\n",
        " \n",
        "#matplotlib \n",
        " \n",
        "import matplotlib\n",
        "print('matplotlib:{}'.format(matplotlib.__version__))\n",
        " \n",
        "#pandas \n",
        " \n",
        "import pandas\n",
        "print('pandas:{}'.format(pandas. __version__))\n",
        " \n",
        "#scikit-learn\n",
        " \n",
        "import sklearn\n",
        "print('sklearn:{}'.format(sklearn.__version__))\n",
        " \n",
        "import seaborn\n",
        "print('seaborn: {}'.format(seaborn.__version__)) \n",
        " \n",
        "import urllib\n",
        "print('urlib:{}'.format(urllib.__name__)) \n",
        " \n",
        "import csv\n",
        "print('csv: {}'.format(csv.__version__))"
      ],
      "execution_count": null,
      "outputs": [
        {
          "output_type": "stream",
          "text": [
            "Python:3.7.11 (default, Jul  3 2021, 18:01:19) \n",
            "[GCC 7.5.0]\n",
            "scipy: 1.4.1\n",
            "numpy:1.19.5\n",
            "matplotlib:3.2.2\n",
            "pandas:1.1.5\n",
            "sklearn:0.22.2.post1\n",
            "seaborn: 0.11.1\n",
            "urlib:urllib\n",
            "csv: 1.0\n"
          ],
          "name": "stdout"
        }
      ]
    },
    {
      "cell_type": "markdown",
      "metadata": {
        "id": "qTuGy_Q9Ex5f"
      },
      "source": [
        ""
      ]
    },
    {
      "cell_type": "code",
      "metadata": {
        "id": "NN16qzcQEyQN"
      },
      "source": [
        "NumPy  \n",
        " \n",
        "import numpy as np \n",
        "a=np.array([0,1,2]) \n",
        "print(type(a)) \n",
        "print(a.shape) \n",
        "print(a[0]) \n",
        "print(a[1]) \n",
        "print(a[2]) \n",
        "a[0]=5 \n",
        "print(a) \n",
        " \n",
        " \n",
        "<class 'numpy.ndarray'> \n",
        "(3,) \n",
        "0 \n",
        "1 \n",
        "2 \n",
        "[5 1 2] \n",
        "\n",
        " \n",
        " \n",
        " \n",
        "import numpy as np \n",
        "b=np.array([[0,1,2],[3,4,5]]) \n",
        "print(b.shape) \n",
        "print(b) \n",
        "print(b[0,0],b[0,1],b[1,0]) \n",
        " \n",
        " \n",
        "(2, 3) \n",
        "[[0 1 2] \n",
        "[3 4 5]] \n",
        "0 1 3 \n",
        "  \n",
        "import numpy as np \n",
        "a=np.zeros((3,3)) \n",
        "print(a) \n",
        " \n",
        "[[0. 0. 0.] \n",
        "[0. 0. 0.] \n",
        "[0. 0. 0.]] \n",
        "  \n",
        "import numpy as np \n",
        "b=np.ones((2,2)) \n",
        "print(b) \n",
        " \n",
        "[[1. 1.] \n",
        "[1. 1.]] \n",
        "  \n",
        "import numpy as np \n",
        "c=np.full((3,3),7) \n",
        "print(c) \n",
        " \n",
        "[[7 7 7] \n",
        "[7 7 7] \n",
        "[7 7 7]] \n",
        "  \n",
        "import numpy as np \n",
        "d=np.random.random((3,3)) \n",
        "print(d) \n",
        " \n",
        "[[0.81016965 0.93708625 0.64555727] \n",
        "[0.69457725 0.87169481 0.89364639] \n",
        "[0.10066267 0.41921179 0.16202094]] \n",
        "  \n",
        "import numpy as np \n",
        "e=np.eye(3) \n",
        "print(e) \n",
        " \n",
        "[[1. 0. 0.] \n",
        "[0. 1. 0.] \n",
        "[0. 0. 1.]] \n",
        "  \n",
        "import numpy as np \n",
        " \n",
        " \n",
        " \n",
        "f=np.array([2,3,1,0]) \n",
        "print(f) \n",
        " \n",
        "[2 3 1 0] \n",
        "  \n",
        "import numpy as np \n",
        "g=np.arange(2,10) \n",
        "print(g) \n",
        " \n",
        "[2 3 4 5 6 7 8 9] \n",
        "  \n",
        "import numpy as np \n",
        "h=np.array([[0,1,2.0],[0,0,0],(1+1j,3.,2.)]) \n",
        "print(h) \n",
        " \n",
        "[[0.+0.j 1.+0.j 2.+0.j] \n",
        "[0.+0.j 0.+0.j 0.+0.j] \n",
        "[1.+1.j 3.+0.j 2.+0.j]] \n",
        "  \n",
        "import numpy as np \n",
        "i=np.arange(1,8,dtype=np.float) \n",
        "print(i) \n",
        " \n",
        "[1. 2. 3. 4. 5. 6. 7.] \n",
        "  \n",
        "import numpy as np \n",
        "j=np.linspace(2.,4., 5) \n",
        "print(j) \n",
        " \n",
        "[2. 2.5 3. 3.5 4. ] \n",
        "  \n",
        "import numpy as np \n",
        "k=np.indices((3,3)) \n",
        "print(k) \n",
        " \n",
        "[[[0 0 0] \n",
        "[1 1 1] \n",
        "[2 2 2]] \n",
        " \n",
        "[[0 1 2] \n",
        "[0 1 2] \n",
        "[0 1 2]]] \n",
        "  \n",
        "import numpy as np \n",
        "x=np.array([0,1]) \n",
        "y=np.array([2.0,3.0]) \n",
        "z=np.array([5,6], dtype=np.int64) \n",
        "print(x.dtype,y.dtype,z.dtype) \n",
        " \n",
        "int64 float64 int64 \n",
        "  \n",
        "import numpy as np \n",
        "x=np array([5 6 7 8 9]) \n",
        " \n",
        " \n",
        " \n",
        " \n",
        "print(x[1:7:2]) \n",
        "print(x[-2:5]) \n",
        "print(x[-1:1:-1]) \n",
        " \n",
        "[6 8] \n",
        "[8 9] \n",
        "[9 8 7] \n",
        "  \n",
        "import numpy as np \n",
        "a=np.array([[1,2],[3,4],[5,6]]) \n",
        "print(a>2) \n",
        "print(a[a>2]) \n",
        " \n",
        "[[False  False] \n",
        "[  True  True] \n",
        "[ True  True]] \n",
        "[3 4 5 6] \n",
        "  \n",
        "import numpy as np \n",
        "x=np.array([[1,2],[3,4],[5,6]]) \n",
        "y=np.array([[7,8],[9,10],[11,12]]) \n",
        "print(x+y) \n",
        "print(np.add(x,y)) \n",
        "print(x-y) \n",
        "print(np.subtract(x,y)) \n",
        " \n",
        "[[ 8 10] \n",
        "[12 14] \n",
        "[16 18]] \n",
        "[[ 8 10] \n",
        "[12 14] \n",
        "[16 18]] \n",
        "[[-6 -6] \n",
        "[-6 -6] \n",
        "[-6 -6]] \n",
        "[[-6 -6] \n",
        "[-6 -6] \n",
        "[-6 -6]] \n",
        "  \n",
        "import numpy as np \n",
        "x=np.array([[1,2],[3,4],[5,6]]) \n",
        "y=np.array([[7,8],[9,10],[11,12]]) \n",
        "print(np.multiply(x,y)) \n",
        "print(x*y) \n",
        " \n",
        "[[ 7 16] \n",
        "[27 40] \n",
        "[55 72]] \n",
        "[[ 7 16] \n",
        "[27 40] \n",
        "[55 72]] \n",
        "  \n",
        "import numpy as np \n",
        "x=np.array([[1,2],[3,4],[5,6]]) \n",
        "y=np.array([[7,8],[9,10],[11,12]]) \n",
        " \n",
        " \n",
        " \n",
        " \n",
        "print(np.divide(x,y)) \n",
        "print(x/y) \n",
        " \n",
        "[[0.14285714 0.25 ] \n",
        "[0.33333333 0.4 ] \n",
        "[0.45454545 0.5 ]] \n",
        "[[0.14285714 0.25 ] \n",
        "[0.33333333 0.4 ] \n",
        "[0.45454545 0.5 ]] \n",
        " \n",
        " \n",
        "import numpy as np \n",
        "x=np.array([[1,2],[3,4],[5,6]]) \n",
        "print(np.sqrt(x)) \n",
        " \n",
        "[[1. 1.41421356] \n",
        "[1.73205081 2. ] \n",
        "[2.23606798 2.44948974]] \n",
        "  \n",
        "import numpy as np \n",
        "a=np.array([9,10]) \n",
        "b=np.array([11,12]) \n",
        "print(a.dot(b)) \n",
        "print(np.dot(a,b)) \n",
        " \n",
        "219 \n",
        "219 \n",
        "  \n",
        "import numpy as np \n",
        "a=np.array([9,10]) \n",
        "x=np.array([[1,2],[3,4]]) \n",
        "print(x.dot(a)) \n",
        "print(np.dot(x,a)) \n",
        " \n",
        "[29 67] \n",
        "[29 67] \n",
        " \n",
        " \n",
        "import numpy as np \n",
        "x=np.array([[1,2],[3,4]]) \n",
        "y=np.array([[5,6],[7,8]]) \n",
        "print(x.dot(y)) \n",
        "print(np.dot(x,y)) \n",
        " \n",
        "[[19 22] \n",
        "[43 50]] \n",
        "[[19 22] \n",
        "[43 50]] \n",
        " \n",
        " \n",
        "import numpy as np \n",
        "x=np.array([[1,2],[3,4]]) \n",
        "print(np.sum(x)) \n",
        "print(np.sum(x,axis=0)) \n",
        "print(np.sum(x,axis=1))  \n",
        " \n",
        " \n",
        "10 \n",
        "[4 6] \n",
        "[3 7] \n",
        "  \n",
        "import numpy as np \n",
        "x=np.array([[1,2],[3,4]]) \n",
        "print(x) \n",
        "print(x.T) \n",
        " \n",
        " \n",
        "[[1 2] \n",
        "[3 4]] \n",
        "[[1 3] \n",
        "[2 4]] \n",
        "  \n",
        "import numpy as np \n",
        "v=np.array([1,2,3]) \n",
        "print(v) \n",
        "print(v.T) \n",
        " \n",
        "[1 2 3] \n",
        "[1 2 3] \n",
        "  \n",
        "import numpy as np \n",
        "a=np.array([[1,2,3],[4,5,6],[7,8,9]]) \n",
        "v=np.array([1,0,1]) \n",
        "b=a+v \n",
        "print(b) \n",
        " \n",
        "[[ 2  2  4] \n",
        "[ 5  5  7] \n",
        "[ 8 8 10]] \n",
        "  \n",
        "import numpy as np \n",
        "x=np.array([[1,2,1],[3,4,1]]) \n",
        "print(\"X.T:\\n\",x.T) \n",
        "w=np.array([1,1]) \n",
        "print(\"W:\\n\",w) \n",
        "print(\"Final :\\n\",(x.T+w).T) \n",
        "X.T: \n",
        "[[1 3] \n",
        "[2 4] \n",
        "[1 1]] \n",
        "W: \n",
        "[1 1] \n",
        "Final : \n",
        "[[2 3 2] \n",
        "[4 5 2]] \n",
        "  \n",
        "import numpy as np \n",
        "x=np.array([[1,2,1],[3,4,1]]) \n",
        "print(x*2) \n",
        " \n",
        " \n",
        " \n",
        " \n",
        "[[2 4 2] \n",
        "[6 8 2]] \n",
        "  \n",
        "import numpy as np \n",
        "np.random.rand(3,2) \n",
        " \n",
        "array([[0.10074037, 0.27068697], \n",
        "[0.48588216, 0.77310637], \n",
        "[0.5907359 , 0.25493591]]) \n",
        "  \n",
        "import numpy as np \n",
        "np.random.rand(10) \n",
        " \n",
        "array([0.18952105, 0.81924627, 0.98824282, 0.0406113 , 0.81100701, \n",
        "0.24091875, 0.96118339, 0.87948378, 0.96721396, 0.09074509]) \n",
        "  \n",
        "import random \n",
        "print (random.randint(0,9))\n",
        "8"
      ],
      "execution_count": null,
      "outputs": []
    },
    {
      "cell_type": "markdown",
      "metadata": {
        "id": "Rz5guVGdF8hm"
      },
      "source": [
        "Pandas\n",
        "\n",
        "\n",
        "1.Creating Series"
      ]
    },
    {
      "cell_type": "code",
      "metadata": {
        "id": "Nx6SSqZtFyMS"
      },
      "source": [
        " \n",
        "import pandas as pd \n",
        "s=pd.Series([1,2,3,4,5],index=['A','B','C','D','E']) \n",
        "s  \n",
        "A 1 \n",
        "B 2 \n",
        "C 3 \n",
        "D 4 \n",
        "E 5 \n",
        "dtype: int64"
      ],
      "execution_count": null,
      "outputs": []
    },
    {
      "cell_type": "markdown",
      "metadata": {
        "id": "fHzJM53uGFjv"
      },
      "source": [
        "2. Data Frames"
      ]
    },
    {
      "cell_type": "markdown",
      "metadata": {
        "id": "fQcYnVoyGI3J"
      },
      "source": [
        ""
      ]
    },
    {
      "cell_type": "code",
      "metadata": {
        "id": "qvBPqs4UGnVz"
      },
      "source": [
        "import pandas as pd \n",
        "data={'Gen':['F','M','M'],'EiD':['E01','E02','E03'],'Age':[25,45,38]} \n",
        " \n",
        "df=pd.DataFrame(data,columns=['EiD','Age','Gen']) \n",
        "print(df) \n",
        " \n",
        "EiD Age Gen \n",
        " \n",
        " \n",
        " \n",
        "0  E01   25   F \n",
        "1  E02   45   M \n",
        "2  E03   38   M \n",
        "  \n",
        "import pandas as pd \n",
        "from numpy import loadtxt \n",
        "from urllib.request import urlopen \n",
        "url='https://raw.githubusercontent.com/jbrownlee/datasets/master/pima-indians-diabetes.data.csv' \n",
        "raw_data=pd.read_csv(urlopen(url)) \n",
        "raw_data.shape \n",
        " \n",
        " \n",
        "(767, 9) \n",
        "  \n",
        "raw_data.head() \n",
        "  \n",
        "6 148 72 35 0 33.6 0.627 50 1   \n",
        "0 1 85 66 29 0 26.6 0.351 31 0 \n",
        "1 8 183 64 0 0 23.3 0.672 32 1 \n",
        "2 1 89 66 23 94 28.1 0.167 21 0 \n",
        "3 0 137 40 35 168 43.1 2.288 33 1 \n",
        "4 5 116 74 0 0 25.6 0.201 30 0 \n",
        " \n",
        " raw_data.tail() \n",
        "        \n",
        " \n",
        "6 148 72 35 0 33.6 0.627 50 1 \n",
        "762 10 101 76 48 180 32.9 0.171 63 0 \n",
        "763 2 122 70 27 0 36.8 0.340 27 0 \n",
        "764 5 121 72 23 112 26.2 0.245 30 0 \n",
        "765 1 126 60 0 0 30.1 0.349 47 1 \n",
        "766 1 93 70 31 0 30.4 0.315 23 0 \n",
        " \n",
        " \n",
        "raw_data.head(25) \n",
        "\n",
        " \n",
        " \n",
        "20 8 99 84 0 0 35.4 0.388 50 0 \n",
        " \n",
        "21 7 196 90 0 0 39.8 0.451 41 1 \n",
        " \n",
        "22 9 119 80 35 0 29.0 0.263 29 1 \n",
        " \n",
        "23 11 143 94 33 146 36.6 0.254 51 1 \n",
        " \n",
        "24 10 125 70 26 115 31.1 0.205 41 1 \n",
        " 6 148 72 35 0 33.6 0.627 50 1 \n",
        "0 1 85 66 29 0 26.6 0.351 31 0 \n",
        "1 8 183 64 0 0 23.3 0.672 32 1 \n",
        "2 1 89 66 23 94 28.1 0.167 21 0 \n",
        "3 0 137 40 35 168 43.1 2.288 33 1 \n",
        "4 5 116 74 0 0 25.6 0.201 30 0 \n",
        "5 3 78 50 32 88 31.0 0.248 26 1 \n",
        "6 10 115 0 0 0 35.3 0.134 29 0 \n",
        "7 2 197 70 45 543 30.5 0.158 53 1 \n",
        "8 8 125 96 0 0 0.0 0.232 54 1 \n",
        "9 4 110 92 0 0 37.6 0.191 30 0 \n",
        "10 10 168 74 0 0 38.0 0.537 34 1 \n",
        "11 10 139 80 0 0 27.1 1.441 57 0 \n",
        "12 1 189 60 23 846 30.1 0.398 59 1 \n",
        "13 5 166 72 19 175 25.8 0.587 51 1 \n",
        "14 7 100 0 0 0 30.0 0.484 32 1 \n",
        "15 0 118 84 47 230 45.8 0.551 31 1 \n",
        "16 7 107 74 0 0 29.6 0.254 31 1 \n",
        "17 1 103 30 38 83 43.3 0.183 33 0 \n",
        "18 1 115 70 30 96 34.6 0.529 32 1 \n",
        "19 3 126 88 41 235 39.3 0.704 27 0 \n",
        " \n",
        "raw_data.describe()  \n",
        "6 148 72 35 0 33.6 0.627   \n",
        "count 767.000000 767.000000 767.000000 767.000000 767.000000 767.000000 767.000000 767. \n",
        "mean 3.842243 120.859192 69.101695 20.517601 79.903520 31.990482 0.471674 33. \n",
        "std 3.370877 31.978468 19.368155 15.954059 115.283105 7.889091 0.331497 11. \n",
        "min 0.000000 0.000000 0.000000 0.000000 0.000000 0.000000 0.078000 21. \n",
        "25% 1.000000 99.000000 62.000000 0.000000 0.000000 27.300000 0.243500 24. \n",
        "50% 3.000000 117.000000 72.000000 23.000000 32.000000 32.000000 0.371000 29. \n",
        "75% 6.000000 140.000000 80.000000 32.000000 127.500000 36.600000 0.625000 41. \n",
        "max 17.000000 199.000000 122.000000 99.000000 846.000000 67.100000 2.420000 81. \n",
        " \n",
        " \n",
        "raw_data.cov() \n",
        "\n",
        " \n",
        " \n",
        "   6 148 72 35 0 33.6 0.627  \n",
        "6 11.362809 13.888985 9.218414 -4.436515 -28.367721 0.465859 -0.037912 21 \n",
        "148 13.888985 1022.622445 94.451675 28.764884 1225.357154 55.742783 1.451278 98 \n",
        "72 9.218414 94.451675 375.125415 64.058260 198.939328 43.054755 0.264396 54 \n",
        "35 -4.436515 28.764884 64.058260 254.532001 805.536948 49.407935 0.970472 -21 \n",
        "0 -28.367721 1225.357154 198.939328 805.536948 13290.194335 180.177540 7.092087 -55 \n",
        "33.6 0.465859 55.742783 43.054755 49.407935 180.177540 62.237755 0.367558 3 \n",
        "0.627 -0.037912 1.451278 0.264396 0.970472 7.092087 0.367558 0.109890 0 \n",
        "50 21.551571 98.618350 54.531221 -21.725792 -55.469702 3.329503 0.127544 138 \n",
        "1 0.355250 7.101300 0.599018 0.557181 7.252951 1.100707 0.027376 1 \n",
        " \n",
        " raw_data.corr() \n",
        "         \n",
        " \n",
        "6 148 72 35 0 33.6 0.627 50  \n",
        "6 1.000000 0.128846 0.141197 -0.082495 -0.072999 0.017518 -0.033927 0.544018 0.221 \n",
        "148 0.128846 1.000000 0.152498 0.056381 0.332383 0.220955 0.136903 0.262408 0.465 \n",
        "72 0.141197 0.152498 1.000000 0.207308 0.089098 0.281777 0.041180 0.239571 0.064 \n",
        "35 -0.082495 0.056381 0.207308 1.000000 0.437974 0.392553 0.183498 -0.115873 0.073 \n",
        "0 -0.072999 0.332383 0.089098 0.437974 1.000000 0.198111 0.185579 -0.040942 0.131 \n",
        "33.6 0.017518 0.220955 0.281777 0.392553 0.198111 1.000000 0.140546 0.035911 0.292 \n",
        "0.627 -0.033927 0.136903 0.041180 0.183498 0.185579 0.140546 1.000000 0.032738 0.173 \n",
        "50 0.544018 0.262408 0.239571 -0.115873 -0.040942 0.035911 0.032738 1.000000 0.236 \n",
        "1 0.221087 0.465856 0.064882 0.073265 0.131984 0.292695 0.173245 0.236417 1.000 \n",
        " \n",
        " \n",
        "from sklearn.datasets import load_iris \n",
        "import numpy as np \n",
        "iris=load_iris() \n",
        "iris \n",
        " \n",
        "{'DESCR': '.. _iris_dataset:\\n\\nIris plants dataset\\n--------------------\\n\\n**Data Set Characteristics:**\\n\\n :Num \n",
        "'data': array([[5.1, 3.5, 1.4, 0.2], \n",
        "[4.9, 3. , 1.4, 0.2], \n",
        "[4.7, 3.2, 1.3, 0.2], \n",
        "[4.6, 3.1, 1.5, 0.2], \n",
        "[5. , 3.6, 1.4, 0.2], \n",
        "[5.4, 3.9, 1.7, 0.4], \n",
        "[4.6, 3.4, 1.4, 0.3], \n",
        "[5. , 3.4, 1.5, 0.2], \n",
        "[4.4, 2.9, 1.4, 0.2], \n",
        "[4.9, 3.1, 1.5, 0.1], \n",
        "[5.4, 3.7, 1.5, 0.2], \n",
        "[4.8, 3.4, 1.6, 0.2], \n",
        "\n",
        " \n",
        " \n",
        "[4.8, 3. , 1.4, 0.1], \n",
        "[4.3, 3. , 1.1, 0.1], \n",
        "[5.8, 4. , 1.2, 0.2], \n",
        "[5.7, 4.4, 1.5, 0.4], \n",
        "[5.4, 3.9, 1.3, 0.4], \n",
        "[5.1, 3.5, 1.4, 0.3], \n",
        "[5.7, 3.8, 1.7, 0.3], \n",
        "[5.1, 3.8, 1.5, 0.3], \n",
        "[5.4, 3.4, 1.7, 0.2], \n",
        "[5.1, 3.7, 1.5, 0.4], \n",
        "[4.6, 3.6, 1. , 0.2], \n",
        "[5.1, 3.3, 1.7, 0.5], \n",
        "[4.8, 3.4, 1.9, 0.2], \n",
        "[5. , 3. , 1.6, 0.2], \n",
        "[5. , 3.4, 1.6, 0.4], \n",
        "[5.2, 3.5, 1.5, 0.2], \n",
        "[5.2, 3.4, 1.4, 0.2], \n",
        "[4.7, 3.2, 1.6, 0.2], \n",
        "[4.8, 3.1, 1.6, 0.2], \n",
        "[5.4, 3.4, 1.5, 0.4], \n",
        "[5.2, 4.1, 1.5, 0.1], \n",
        "[5.5, 4.2, 1.4, 0.2], \n",
        "[4.9, 3.1, 1.5, 0.2], \n",
        "[5. , 3.2, 1.2, 0.2], \n",
        "[5.5, 3.5, 1.3, 0.2], \n",
        "[4.9, 3.6, 1.4, 0.1], \n",
        "[4.4, 3. , 1.3, 0.2], \n",
        "[5.1, 3.4, 1.5, 0.2], \n",
        "[5. , 3.5, 1.3, 0.3], \n",
        "[4.5, 2.3, 1.3, 0.3], \n",
        "[4.4, 3.2, 1.3, 0.2], \n",
        "[5. , 3.5, 1.6, 0.6], \n",
        "[5.1, 3.8, 1.9, 0.4], \n",
        "[4.8, 3. , 1.4, 0.3], \n",
        "[5.1, 3.8, 1.6, 0.2], \n",
        "[4.6, 3.2, 1.4, 0.2], \n",
        "[5.3, 3.7, 1.5, 0.2], \n",
        "[5. , 3.3, 1.4, 0.2], \n",
        "[7. , 3.2, 4.7, 1.4], \n",
        "[6.4, 3.2, 4.5, 1.5], \n",
        "[6.9, 3.1, 4.9, 1.5], \n",
        "[5.5, 2.3, 4. , 1.3], \n",
        "[6.5, 2.8, 4.6, 1.5], \n",
        "[5.7, 2.8, 4.5, 1.3], \n",
        "[6.3, 3.3, 4.7, 1.6], \n",
        " \n",
        " \n",
        "X=pd.DataFrame(iris.data) \n",
        "X \n",
        " \n",
        " \n",
        "145 6.7 3.0 5.2 2.3 \n",
        " \n",
        "146 6.3 2.5 5.0 1.9 \n",
        " \n",
        "147 6.5 3.0 5.2 2.0 \n",
        " \n",
        "148 6.2 3.4 5.4 2.3 \n",
        " \n",
        "149 5.9 3.0 5.1 1.8 \n",
        " \n",
        "150 rows × 4 columns \n",
        "  0 1 2 3 \n",
        "0 5.1 3.5 1.4 0.2 \n",
        "1 4.9 3.0 1.4 0.2 \n",
        "2 4.7 3.2 1.3 0.2 \n",
        "3 4.6 3.1 1.5 0.2 \n",
        "4 5.0 3.6 1.4 0.2 \n",
        "... ... ... ... ... \n",
        "  \n",
        "X.shape \n",
        "(150,4) \n",
        "X.columns=['Sepal_length','Sepal_width','petal_length','petal_width'] \n",
        "X.head() \n",
        "  \n",
        " Sepal_length Sepal_width petal_length petal_width \n",
        "0 5.1 3.5 1.4 0.2 \n",
        "1 4.9 3.0 1.4 0.2 \n",
        "2 4.7 3.2 1.3 0.2 \n",
        "3 4.6 3.1 1.5 0.2 \n",
        "4 5.0 3.6 1.4 0.2 \n",
        " X.tail() \n",
        "    \n",
        " \n",
        "Sepal_length Sepal_width petal_length petal_width \n",
        "145 6.7 3.0 5.2 2.3 \n",
        "146 6.3 2.5 5.0 1.9 \n",
        "147 6.5 3.0 5.2 2.0 \n",
        "148 6.2 3.4 5.4 2.3 \n",
        "149 5.9 3.0 5.1 1.8 \n",
        " X.describe() \n",
        "    \n",
        " \n",
        " \n",
        " \n",
        "std 0.828066 0.435866 1.765298 0.762238 \n",
        "min 4.300000 2.000000 1.000000 0.100000 \n",
        " \n",
        "25% 5.100000 2.800000 1.600000 0.300000 \n",
        " \n",
        "50% 5.800000 3.000000 4.350000 1.300000 \n",
        " \n",
        "75% 6.400000 3.300000 5.100000 1.800000 \n",
        "max 7.900000 4.400000 6.900000 2.500000 \n",
        "   Sepal_length Sepal_width petal_length petal_width \n",
        "count 150.000000 150.000000 150.000000 150.000000 \n",
        "mean 5.843333 3.057333 3.758000 1.199333 \n",
        " \n",
        " \n",
        "X.cov()  \n",
        " \n",
        "Sepal_length \n",
        " \n",
        " \n",
        "Sepal_width \n",
        " \n",
        " \n",
        "petal_length \n",
        " \n",
        " \n",
        "petal_width \n",
        "Sepal_length 0.685694 -0.042434 1.274315 0.516271 \n",
        "Sepal_width -0.042434 0.189979 -0.329656 -0.121639 \n",
        "petal_length 1.274315 -0.329656 3.116278 1.295609 \n",
        "petal_width 0.516271 -0.121639 1.295609 0.581006 \n",
        " X.corr() \n",
        "    \n",
        " \n",
        "Sepal_length Sepal_width petal_length petal_width \n",
        "Sepal_length 1.000000 -0.117570 0.871754 0.817941 \n",
        "Sepal_width -0.117570 1.000000 -0.428440 -0.366126 \n",
        "petal_length 0.871754 -0.428440 1.000000 0.962865 \n",
        "petal_width 0.817941 -0.366126 0.962865 1.000000 \n",
        " \n",
        " \n",
        "import numpy as np \n",
        "df=pd.DataFrame({'Name':['Pooji','Nani','Chinni','Chikki'],'state':['IND','USA','UK','USSR'],'Grade':['A','A','B','C'],'Age': np. \n",
        "print(df) \n",
        " \n",
        "Name state Grade Age salary \n",
        "0   JAYA   IND A  30.906880  3595.154133 \n",
        "1 GAYATRI   USA A  34.991981  4261.790535 \n",
        "2  KEERTHI UK B  33.773451  4475.564708 \n",
        "3  REVATHI  USSR C 33.556051 3680.246936 \n",
        "  \n",
        "import numpy as np \n",
        "import pandas as pd \n",
        "df=pd.DataFrame({'Name':['Pooji','Nani','Chinni','Chikki'],'state':['IND','USA','UK','USSR'],'Grade':['A','A','B','C'],'Age': np. \n",
        "df.groupby(['Name','state']).max() "
      ],
      "execution_count": null,
      "outputs": []
    },
    {
      "cell_type": "markdown",
      "metadata": {
        "id": "Gk-qVwkXHoOZ"
      },
      "source": [
        "SCIPY"
      ]
    },
    {
      "cell_type": "code",
      "metadata": {
        "id": "WWqpue2WHY-Y"
      },
      "source": [
        " \n",
        " \n",
        " \n",
        "Grade Age salary \n",
        " \n",
        "Name state \n",
        " \n",
        "Chikki USSR C 29.794042 4609.179273 \n",
        "Chinni UK B 26.926079 3885.134254 \n",
        " \n",
        "Nani USA A 29.096474 3512.814611 \n",
        " \n",
        "Pooji IND A 26.294071 3363.990431 \n",
        " \n",
        " \n",
        "  \n",
        "import numpy as np \n",
        "np.linspace(1.,4.,6) \n",
        " \n",
        "array([1. , 1.6, 2.2, 2.8, 3.4, 4. ]) \n",
        "  \n",
        "from scipy.cluster.vq import kmeans,vq,whiten \n",
        "from numpy import vstack,array \n",
        "from numpy.random import rand \n",
        " data=vstack((rand(100,3)+array([.5,.5,.5]),rand(100,3))) \n",
        "data \n",
        " \n",
        "array([[0.90258909, 0.9233607 , 0.78273525], \n",
        "[0.59467738, 1.02911659, 0.88358223], \n",
        "[0.92905869, 0.80844347, 0.82420722], \n",
        "[1.06828604, 0.81638002, 0.88543623], \n",
        "[0.76992404, 1.26167714, 1.10877409], \n",
        "[0.94258935, 1.0448952 , 1.06661058], \n",
        "[0.58711959, 0.74227861, 0.79150924], \n",
        "[1.19399041, 1.33268416, 0.61880348], \n",
        "[1.44290692, 1.36136538, 0.78877052], \n",
        "[1.03774349, 0.6544453 , 0.51597171], \n",
        "[0.85270142, 1.09004265, 1.46484699], \n",
        "[1.49274988, 1.22665456, 0.61984447], \n",
        "[1.40821041, 1.41990694, 1.30399566], \n",
        "[1.15292093, 1.47797535, 1.49433546], \n",
        "[1.23392988, 1.28656044, 1.19497233], \n",
        "[1.30474702, 1.17295312, 0.99283884], \n",
        "[1.11447917, 1.05786207, 1.20734399], \n",
        "[0.57127275, 1.00986092, 0.7823292 ], \n",
        "[0.65881379, 0.5586953 , 1.19068023], \n",
        "[0.63549054, 1.43347337, 1.20934843], \n",
        "[1.29225155, 1.18181672, 1.02012635], \n",
        "[1.29555226, 0.97626639, 1.485882  ], \n",
        "[0.64667569, 0.69919071, 1.1864496 ], \n",
        "[0.93023392, 0.91972667, 1.2469598 ], \n",
        "[0.82753469, 0.96163331, 1.01320967], \n",
        "[1.49970107, 0.50047758, 1.2111403 ], \n",
        "[1.01357654, 0.87647747, 1.24656772], \n",
        "[1.45615945, 1.42696013, 0.62253123], \n",
        "[1.06189792, 1.49445231, 0.63966425], \n",
        "[0.84649455, 1.35510061, 1.48476767], \n",
        "[0.97081189, 1.29297546, 1.26874188], \n",
        "[1.20442852, 0.91949897, 0.88777343], \n",
        "[0.95969091, 0.73892865, 0.5579961 ], \n",
        "[0.74723184, 0.59132549, 0.66483177], \n",
        "[0.5757808 , 0.77717716, 1.23873048], \n",
        "[1.21637942, 1.30881095, 1.14530707], \n",
        "[0.66188824, 1.04102459, 0.62415182], \n",
        "[1.48653083, 0.93795358, 1.32296478], \n",
        "[0.76699392, 1.14114594, 0.70449482], \n",
        "[0.9997548 , 0.87533817, 0.8307093 ], \n",
        "Scipy \n",
        "\n",
        " \n",
        " \n",
        "[0.53980197, 0.53559352, 0.70849509], \n",
        "[0.84755593, 1.30884233, 1.11748818], \n",
        "[0.61598479, 0.92493323, 0.62984949], \n",
        "[0.58814621, 1.43817664, 1.00232063], \n",
        "[1.02392348, 0.98574837, 0.83436041], \n",
        "[1.16143734, 0.63678783, 0.60890533], \n",
        "[1.45800622, 1.31447604, 1.20930403], \n",
        "[1.14004837, 0.94355688, 0.59025659], \n",
        "[0.98340077, 1.04390078, 0.6218841 ], \n",
        "[1.07777382, 1.41688591, 0.86597751], \n",
        "[1.17337323, 0.68930459, 0.54606734], \n",
        "[0.78309997, 0.70960006, 0.8653093 ], \n",
        "[0.8879114 , 0.83011562, 1.24778146], \n",
        "[0.85948029, 1.14241534, 0.91087691], \n",
        "[1.13946389, 1.28495366, 1.23643912], \n",
        "[1.26684229, 0.52693652, 1.4311785 ], \n",
        "[1.15827702, 1.1111431 , 0.63416144], \n",
        "[0 63860458  0 71161294  0 94442562]  \n",
        "data=whiten(data) \n",
        "data \n",
        " \n",
        "array([[2.41005477, 2.35350275, 2.07361492], \n",
        "[1.58788209, 2.62305806, 2.3407778 ], \n",
        "[2.48073275, 2.06059662, 2.18348208], \n",
        "[2.85249166, 2.08082566, 2.3456894 ], \n",
        "[2.05581824, 3.21581873, 2.93735398], \n",
        "[2.51686174, 2.66327528, 2.82565481], \n",
        "[1.56770161, 1.89195269, 2.0968589 ], \n",
        "[3.18814209, 3.39680457, 1.6393284 ], \n",
        "[3.85278831, 3.46990853, 2.08960349], \n",
        "[2.77093826, 1.66807923, 1.36690744], \n",
        "[2.27684685, 2.77834912, 3.88065898], \n",
        "[3.98587685, 3.12655163, 1.64208619], \n",
        "[3.76014317, 3.61912187, 3.45453314], \n",
        "[3.07848012, 3.76712921, 3.95877954], \n",
        "[3.29478676, 3.27924238, 3.16570954], \n",
        "[3.48387965, 2.98967501, 2.63021939], \n",
        "[2.97583459, 2.69632582, 3.19848443], \n",
        "[1.52538804, 2.57397835, 2.07253921], \n",
        "[1.7591364 , 1.4240274 , 3.15433895], \n",
        "[1.69685964, 3.65370059, 3.20379458], \n",
        "[3.4505148 , 3.01226693, 2.70250922], \n",
        "[3.4593282 , 2.48835113, 3.93638472], \n",
        "[1.72672576, 1.78212834, 3.14313121], \n",
        "[2.48387081, 2.34424019, 3.30343427], \n",
        "[2.20964773, 2.45105368, 2.68418561], \n",
        "[4.00443763, 1.27563948, 3.20854158], \n",
        "[2.70640872, 2.2340047 , 3.30239558], \n",
        "[3.88817466, 3.63709936, 1.64920393], \n",
        "[2.83543439, 3.80912642, 1.69459257], \n",
        "[2.26027353, 3.45394063, 3.93343266], \n",
        "[2.59222038, 3.29559328, 3.36113915], \n",
        "[3.21601348, 2.3436598 , 2.35188108], \n",
        "[2.56252561, 1.88341416, 1.47823807], \n",
        "[1.99522648, 1.50719667, 1.76126611], \n",
        "[1.53742525, 1.98090367, 3.28163322], \n",
        "[3.24792426, 3.33595546, 3.03413679], \n",
        "[1.76734565, 2.65340972, 1.65349718], \n",
        "[3.969271  , 2.39069774, 3.50478595], \n",
        " \n",
        " \n",
        " \n",
        "[2.04799434, 2.90860345, 1.86634109], \n",
        "[2.6695025 , 2.23110081, 2.20070732], \n",
        "[3.34197049, 2.13825218, 1.46375119], \n",
        "[1.44135611, 1.36514455, 1.87693857], \n",
        "[2.26310759, 3.33603546, 2.96043926], \n",
        "[1.64477621, 2.3575109 , 1.66859139], \n",
        "[1.57044285, 3.6656885 , 2.65533846], \n",
        "[2.73403665, 2.51251922, 2.2103798 ], \n",
        "[3.10122028, 1.6230731 , 1.61310632], \n",
        "[3.89310582, 3.35039492, 3.20367694], \n",
        "[3.04410837, 2.40497968, 1.56370224], \n",
        "[2.62583465, 2.66074068, 1.64748957], \n",
        "[2.87782553, 3.61142174, 2.29413954], \n",
        "[3.13309098, 1.75693014, 1.4466365 ], \n",
        "[2.09100003, 1.80866015, 2.29236931], \n",
        "[2.37086304, 2.11583557, 3.305611  ], \n",
        "[2.2949475 , 2.91183896, 2.4130866 ], \n",
        "[3.04254773, 3.27514695, 3.27556299], \n",
        "[3.38266806, 1.34307921, 3.79146473], \n",
        "[3.09278173, 2.83213089, 1.68001457], \n",
        "[1.70517462, 1.81379067, 2.50196355], \n",
        " \n",
        "centroids,_=kmeans(data,3) \n",
        "centroids \n",
        " \n",
        "array([[2.87117126, 2.87609742, 2.77016224], \n",
        "[1.80705689, 1.52016619, 2.1138557 ], \n",
        "[1.13101776, 1.2148155 , 0.80648608]]) \n",
        "  \n",
        "clx,_=vq(data,centroids) \n",
        "clx \n",
        " \n",
        "array([0, 1, 1, 0, 0, 0, 1, 0, 0, 1, 0, 0, 0, 0, 0, 0, 0, 1, 1, 0, 0, 0, \n",
        "1, 0, 0, 0, 0, 0, 0, 0, 0, 0, 1, 1, 1, 0, 1, 0, 0, 0, 0, 1, 0, 1, \n",
        "0, 0, 1, 0, 0, 0, 0, 1, 1, 0, 0, 0, 0, 0, 1, 0, 0, 0, 0, 0, 0, 0, \n",
        "0, 0, 0, 0, 0, 1, 0, 1, 1, 0, 0, 0, 0, 0, 0, 1, 1, 0, 0, 0, 0, 0, \n",
        "1, 0, 1, 0, 0, 0, 0, 0, 0, 0, 0, 0, 1, 2, 1, 1, 2, 2, 1, 2, 1, 2, \n",
        "1, 1, 2, 2, 2, 1, 2, 2, 1, 2, 1, 2, 1, 2, 1, 1, 1, 1, 1, 2, 2, 2, \n",
        "1, 1, 2, 1, 1, 2, 2, 2, 1, 2, 1, 1, 2, 1, 1, 2, 2, 2, 2, 2, 1, 0, \n",
        "2, 1, 2, 2, 2, 2, 2, 1, 1, 2, 2, 1, 2, 2, 1, 1, 1, 2, 1, 2, 1, 1, \n",
        "2, 2, 2, 2, 2, 2, 2, 1, 2, 1, 1, 2, 2, 1, 1, 2, 2, 2, 2, 2, 1, 2, \n",
        "2, 2], dtype=int32) \n",
        " \n",
        " \n",
        "from scipy.fftpack import fft \n",
        "x=np.array([1.0,2.0,1.0,-1.0,1.5]) \n",
        "y=fft(x) \n",
        "print(\"FFT :\\n\",y) \n",
        " \n",
        "FFT : \n",
        "[ 4.5 -0.j 2.08155948-1.65109876j -1.83155948+1.60822041j \n",
        "-1.83155948-1.60822041j 2.08155948+1.65109876j] \n",
        "  \n",
        "from scipy.fftpack import ifft \n",
        "yinv=ifft(y) \n",
        "print(\"FFT Inverse:\\n\",yinv) \n",
        " \n",
        " \n",
        " \n",
        " \n",
        "FFT Inverse: \n",
        "[ 1. +0.j  2. +0.j  1. +0.j -1. +0.j  1.5+0.j] \n",
        "  \n",
        "from scipy.fftpack import dct \n",
        "print(\"DCT:\\n\",dct(np.array([4.,3.,5.,10.,5.,3.]))) \n",
        " \n",
        "DCT: \n",
        "[ 60. -3.48476592 -13.85640646  11.3137085 6. \n",
        "-6.31319305] \n",
        "  \n",
        "from scipy.fftpack import idct \n",
        "print(\"IDCT:\\n\",idct(np.array([4.,3.,5.,10.,5.,3.]))) \n",
        " \n",
        "IDCT: \n",
        "[ 39.15085889 -20.14213562 -6.45392043 7.13341236 8.14213562 \n",
        "-3.83035081]"
      ],
      "execution_count": null,
      "outputs": []
    },
    {
      "cell_type": "markdown",
      "metadata": {
        "id": "eFKMzUYIH47b"
      },
      "source": [
        "SciPy-Integrated  \n",
        "\n",
        "\n",
        " \n",
        "The general form of quad is scipy.integrate.quad(f,a,b), Where 'f' is the name of the function to \n",
        "be integrated. Whereas, 'a' and 'b' are the lower and upper limits, respectively. Let us see an \n",
        "example of the Gaussian function, integrated over a range of 0 and 1\n",
        "\n",
        "\n",
        " \n",
        "∫f(x)dx "
      ]
    },
    {
      "cell_type": "code",
      "metadata": {
        "id": "NOsMNrA9H7vZ"
      },
      "source": [
        "Import scipy.integrate \n",
        "from numpy import exp \n",
        "f=lambda x:exp(-x**2) \n",
        "i=scipy.integrate.quad(f,0,1) \n",
        "print(i) \n",
        " \n",
        "(0.7468241328124271, 8.291413475940725e-15) "
      ],
      "execution_count": null,
      "outputs": []
    },
    {
      "cell_type": "markdown",
      "metadata": {
        "id": "2VrwKGWfIDNd"
      },
      "source": [
        "Linear Algebra \n",
        "\n",
        "\n",
        " \n",
        "x+3y+5z=10 \n",
        "2x+5y+z=8 \n",
        "2x+3y+8z=3 * \n",
        "\n",
        "\n",
        " from scipy import linalg \n",
        "import numpy as np"
      ]
    },
    {
      "cell_type": "code",
      "metadata": {
        "id": "_Q5jh9mLIOdO"
      },
      "source": [
        "a=np.array([[1,3,5],[2,5,1],[2,3,8]]) \n",
        "b=np.array([10,8,3]) \n",
        "X=linalg.solve(a,b) \n",
        "print(X) \n",
        "[-9.28 5.16 0.76]"
      ],
      "execution_count": null,
      "outputs": []
    },
    {
      "cell_type": "markdown",
      "metadata": {
        "id": "u9ue0WX-IQIN"
      },
      "source": [
        "Finding an Determinant "
      ]
    },
    {
      "cell_type": "code",
      "metadata": {
        "id": "CHwJFhPxIZai"
      },
      "source": [
        "from scipy import linalg \n",
        "import numpy as np \n",
        " \n",
        "A=np.array([[1,2],[3,4]]) \n",
        " x=linalg.det(A) \n",
        "print(x) \n",
        "-2.0 "
      ],
      "execution_count": null,
      "outputs": []
    },
    {
      "cell_type": "markdown",
      "metadata": {
        "id": "F9GLvYl6Ic3a"
      },
      "source": [
        "Eigen values and Eigen Vectors"
      ]
    },
    {
      "cell_type": "code",
      "metadata": {
        "id": "7R5_qX6IIf_r"
      },
      "source": [
        "from scipy import linalg \n",
        "import numpy as np \n",
        " \n",
        "A=np.array([[1,2],[3,4]]) \n",
        " l,v=linalg.eig(A) \n",
        "print(\"Eigen Values :\\n\",l) \n",
        "print(\"Eigen Vectors:\\n\",v) \n",
        "Eigen Values : \n",
        "[-0.37228132+0.j 5.37228132+0.j] \n",
        "Eigen Vectors: \n",
        "[[-0.82456484 -0.41597356] \n",
        "[ 0.56576746 -0.90937671]] "
      ],
      "execution_count": null,
      "outputs": []
    },
    {
      "cell_type": "markdown",
      "metadata": {
        "id": "uDN3YsUdIkm5"
      },
      "source": [
        "Matplot Library"
      ]
    },
    {
      "cell_type": "code",
      "metadata": {
        "id": "IQWAf0KaIpl-"
      },
      "source": [
        "\n",
        " \n",
        " \n",
        "x=np.arange(5) \n",
        "y=(35,45,23,27,60) \n",
        " \n",
        "plt.bar(x,y) \n",
        "plt.show() \n",
        " \n",
        " \n",
        " \n",
        " \n",
        "import numpy as np \n",
        "x=np.linspace(0,20,1000) \n",
        "y=np.sin(x) \n",
        " \n",
        "plt.plot(x,y,label='sample Label') \n",
        "plt.title('sample plot title') \n",
        "plt.xlabel('x axis label') \n",
        "plt.ylabel('y axis label') \n",
        "plt.grid(True) \n",
        " \n",
        "plt.figtext(0.5,0.01,'Fig1:Sinusodial', ha='right',va='bottom') \n",
        "plt.legend(loc='best',framealpha=0.5,prop={'size':'small'}) \n",
        "plt.tight_layout(pad=1) \n",
        "plt.show() "
      ],
      "execution_count": null,
      "outputs": []
    }
  ]
}